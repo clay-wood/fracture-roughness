{
 "cells": [
  {
   "cell_type": "code",
   "execution_count": null,
   "id": "textile-detector",
   "metadata": {},
   "outputs": [],
   "source": [
    "#//////////////////////////////////////////////////////\n",
    "\n",
    "# p5483 -- RUN8\n",
    "\n",
    "#//////////////////////////////////////////////////////"
   ]
  },
  {
   "cell_type": "code",
   "execution_count": null,
   "id": "oriental-snapshot",
   "metadata": {},
   "outputs": [],
   "source": [
    "# import matplotlib.pyplot as plt\n",
    "import numpy as np\n",
    "import pandas as pd\n",
    "import scipy.io as sio\n",
    "\n",
    "from corr_funcs import osc_beg_end, relChgPct, osc_amp, recovFitter, detrend\n",
    "\n",
    "from bokeh.plotting import figure, show, save\n",
    "from bokeh.io import output_notebook, output_file, reset_output\n",
    "from bokeh.layouts import gridplot, row, column\n",
    "output_notebook()"
   ]
  },
  {
   "cell_type": "code",
   "execution_count": null,
   "id": "dying-character",
   "metadata": {},
   "outputs": [],
   "source": [
    "SAVE = 1\n",
    "runname = 'p5483'\n",
    "run = 'run8'\n",
    "\n",
    "[Time, ppa, perm]  = list(map(lambda aa: np.load('../../mechData/p5483_mechdat_reduced.npz',allow_pickle=True)['arr_0'][:,aa], [0, 8, 14]))\n",
    "\n",
    "# Load Thickness\n",
    "thChange = np.load('../'+runname+'_Thickness.npz', allow_pickle=True)['ThChangeLPF']\n",
    "\n",
    "T = 0; R = 0\n",
    "[vel0,timeShift0,rmsAmp0,freqQAmp0,idxAc0] = list(map(lambda bb: np.load('../Results_wAmp/'+runname+'_'+run+'_pp_wAmp_T'+str(T+1)+'R'+str(R+1)+'.npz',allow_pickle=True)[bb], ['c_s','timeShift','rms','freqQAmp','idxAc']))\n",
    "\n",
    "T = 1; R = 1\n",
    "[vel1,timeShift1,rmsAmp1,freqQAmp1,idxAc1] = list(map(lambda bb: np.load('../Results_wAmp/'+runname+'_'+run+'_pp_wAmp_T'+str(T+1)+'R'+str(R+1)+'.npz',allow_pickle=True)[bb], ['c_s','timeShift','rms','freqQAmp','idxAc']))\n",
    "\n",
    "T = 2; R = 2\n",
    "[vel2,timeShift2,rmsAmp2,freqQAmp2,idxAc2] = list(map(lambda bb: np.load('../Results_wAmp/'+runname+'_'+run+'_pp_wAmp_T'+str(T+1)+'R'+str(R+1)+'.npz',allow_pickle=True)[bb], ['c_s','timeShift','rms','freqQAmp','idxAc']))\n",
    "\n",
    "T = 3; R = 3\n",
    "[vel3,timeShift3,rmsAmp3,freqQAmp3,idxAc3] = list(map(lambda bb: np.load('../Results_wAmp/'+runname+'_'+run+'_pp_wAmp_T'+str(T+1)+'R'+str(R+1)+'.npz',allow_pickle=True)[bb], ['c_s','timeShift','rms','freqQAmp','idxAc']))\n",
    "\n",
    "T = 4; R = 4\n",
    "[vel4,timeShift4,rmsAmp4,freqQAmp4,idxAc4] = list(map(lambda bb: np.load('../Results_wAmp/'+runname+'_'+run+'_pp_wAmp_T'+str(T+1)+'R'+str(R+1)+'.npz',allow_pickle=True)[bb], ['c_s','timeShift','rms','freqQAmp','idxAc']))\n",
    "\n",
    "T = 5; R = 5\n",
    "[vel5,timeShift5,rmsAmp5,freqQAmp5,idxAc5] = list(map(lambda bb: np.load('../Results_wAmp/'+runname+'_'+run+'_pp_wAmp_T'+str(T+1)+'R'+str(R+1)+'.npz',allow_pickle=True)[bb], ['c_s','timeShift','rms','freqQAmp','idxAc']))\n",
    "\n",
    "T = 6; R = 6\n",
    "[vel6,timeShift6,rmsAmp6,freqQAmp6,idxAc6] = list(map(lambda bb: np.load('../Results_wAmp/'+runname+'_'+run+'_pp_wAmp_T'+str(T+1)+'R'+str(R+1)+'.npz',allow_pickle=True)[bb], ['c_s','timeShift','rms','freqQAmp','idxAc']))\n",
    "\n",
    "ppa = ppa[idxAc2]\n",
    "perm = perm[idxAc2]"
   ]
  },
  {
   "cell_type": "code",
   "execution_count": null,
   "id": "spatial-blame",
   "metadata": {},
   "outputs": [],
   "source": [
    "vel0_detrend = detrend(Time[idxAc0], vel0)\n",
    "vel1_detrend = detrend(Time[idxAc1], vel1)\n",
    "vel2_detrend = detrend(Time[idxAc2], vel2)\n",
    "vel3_detrend = detrend(Time[idxAc3], vel3)\n",
    "vel4_detrend = detrend(Time[idxAc4], vel4)\n",
    "vel5_detrend = detrend(Time[idxAc5], vel5)\n",
    "vel6_detrend = detrend(Time[idxAc6], vel6)\n",
    "\n",
    "rmsAmp0_detrend = detrend(Time[idxAc0], rmsAmp0)\n",
    "rmsAmp1_detrend = detrend(Time[idxAc1], rmsAmp1)\n",
    "rmsAmp2_detrend = detrend(Time[idxAc2], rmsAmp2)\n",
    "rmsAmp3_detrend = detrend(Time[idxAc3], rmsAmp3)\n",
    "rmsAmp4_detrend = detrend(Time[idxAc4], rmsAmp4)\n",
    "rmsAmp5_detrend = detrend(Time[idxAc5], rmsAmp5)\n",
    "rmsAmp6_detrend = detrend(Time[idxAc6], rmsAmp6)\n",
    "# perm_detrend = detrend(Time[idxAc2], perm)"
   ]
  },
  {
   "cell_type": "code",
   "execution_count": null,
   "id": "opponent-cambodia",
   "metadata": {},
   "outputs": [],
   "source": [
    "fig31 = figure(title='T'+str(T+1)+' --> R'+str(R+1), tools='pan,box_zoom,undo,hover,crosshair') \n",
    "fig31.line(Time[idxAc2+55], ppa, line_width=1.5, line_color=\"crimson\")\n",
    "fig31.yaxis.axis_label = 'effNS (MPa)'\n",
    "\n",
    "fig32 = figure(x_range=fig31.x_range, tools='pan,box_zoom,undo,save,hover,crosshair')\n",
    "fig32.line(Time[idxAc2], vel2_detrend, line_width=1.5, line_color=\"mediumblue\")\n",
    "fig32.line(Time[idxAc2], vel2, line_width=1.5, line_color=\"magenta\")\n",
    "fig32.yaxis.axis_label = 'Velocity (km/s)'\n",
    "\n",
    "fig33 = figure(x_range=fig31.x_range, tools='pan,box_zoom,undo,save,hover,crosshair')\n",
    "fig33.line(Time[idxAc2], rmsAmp2, line_width=1.5, line_color=\"goldenrod\")\n",
    "fig33.line(Time[idxAc2], rmsAmp2_detrend, line_width=1.5, line_color=\"magenta\")\n",
    "fig33.yaxis.axis_label = 'RMS amp'\n",
    "\n",
    "fig34 = figure(x_range=fig31.x_range, tools='pan,box_zoom,undo,save,hover,crosshair', y_axis_type=\"log\", y_range=(1e-19, 1e-16))\n",
    "fig34.circle(Time[idxAc2], perm,size=5, fill_color='black', line_color=\"black\")\n",
    "fig34.yaxis.axis_label = 'Permeability (m^2)'\n",
    "fig34.xaxis.axis_label = 'Time (s)'\n",
    "\n",
    "fig3 = gridplot([fig31, fig32, fig33, fig34], ncols=1, plot_width=800, plot_height=250)\n",
    "show(fig3)"
   ]
  },
  {
   "cell_type": "code",
   "execution_count": null,
   "id": "interesting-advance",
   "metadata": {},
   "outputs": [],
   "source": [
    "# 863000+102949 - idxAc2[0]"
   ]
  },
  {
   "cell_type": "code",
   "execution_count": null,
   "id": "elect-diana",
   "metadata": {},
   "outputs": [],
   "source": [
    "startTime, endTime = osc_beg_end(150+50,14)\n",
    "before = startTime - (1 * 100)\n",
    "after = endTime + (1*100)"
   ]
  },
  {
   "cell_type": "code",
   "execution_count": null,
   "id": "blocked-rally",
   "metadata": {},
   "outputs": [],
   "source": [
    "# sections = np.array([[45200,504200],[509300,859200],[863000,1136600],[1346000,1718200], [1727000,2166000],\n",
    "# [2171400,2349700],[2372800,2561000],[2568000,2760800],[2836900,3019000]])"
   ]
  },
  {
   "cell_type": "code",
   "execution_count": null,
   "id": "utility-dodge",
   "metadata": {},
   "outputs": [],
   "source": [
    "pp_start, pp_end = osc_beg_end(150+55,2)\n",
    "pp_start2 = np.array([22199, 33195, 44192, 55186, 66148, 77178, 88174, 99169, 110169, 121163, 132161, 143153])\n",
    "pp_end2 = np.array([22199, 33195, 44192, 55186, 66148, 77178, 88174, 99169, 110169, 121163, 132161, 143153])+2000\n",
    "\n",
    "pp_start = np.hstack([pp_start, pp_start2])\n",
    "pp_end = np.hstack([pp_end, pp_end2])\n",
    "\n",
    "pp_amps = osc_amp(ppa, pp_start, pp_end)\n",
    "\n",
    "relPerm = relChgPct(perm, 2, 2, pp_start, pp_end)\n",
    "\n",
    "#-----------------------------------------------------------------\n",
    "\n",
    "relVel = np.array([relChgPct(vel0_detrend, 1, 1, pp_start, pp_end), relChgPct(vel1_detrend, 1, 1, pp_start, pp_end), \n",
    "                  relChgPct(vel2_detrend, 1, 1, pp_start, pp_end), relChgPct(vel3_detrend, 1, 1, pp_start, pp_end), \n",
    "                  relChgPct(vel4_detrend, 1, 1, pp_start, pp_end), relChgPct(vel5_detrend, 1, 1, pp_start, pp_end), \n",
    "                  relChgPct(vel6_detrend, 1, 1, pp_start, pp_end)])\n",
    "\n",
    "relRms = np.array([relChgPct(rmsAmp0_detrend, 1, 1, pp_start, pp_end), relChgPct(rmsAmp1_detrend, 1, 1, pp_start, pp_end), \n",
    "                  relChgPct(rmsAmp2_detrend, 1, 1, pp_start, pp_end), relChgPct(rmsAmp3_detrend, 1, 1, pp_start, pp_end), \n",
    "                  relChgPct(rmsAmp4_detrend, 1, 1, pp_start, pp_end), relChgPct(rmsAmp5_detrend, 1, 1, pp_start, pp_end), \n",
    "                  relChgPct(rmsAmp6_detrend, 1, 1, pp_start, pp_end)])"
   ]
  },
  {
   "cell_type": "code",
   "execution_count": null,
   "id": "6581a59c-e9cc-47aa-89ac-11c24d9b6303",
   "metadata": {},
   "outputs": [],
   "source": [
    "fig1 = figure(tools='pan,box_zoom,undo,hover,crosshair') \n",
    "fig1.circle(pp_amps, relPerm, size=8, fill_color='black', line_color=\"black\")\n",
    "fig1.yaxis.axis_label = 'delk/k0 (%)'\n",
    "colors = ['dodgerblue', 'mediumblue', 'navy', 'pink', 'deeppink', 'mediumvioletred', 'goldenrod']\n",
    "\n",
    "fig2 = figure(x_range=fig1.x_range, tools='pan,box_zoom,undo,save,hover,crosshair')\n",
    "for aa in range(len(relVel)):\n",
    "    fig2.circle(pp_amps, relVel[aa], size=8, fill_color=colors[aa], line_color=colors[aa], legend_label='T'+str(aa+1)+'R'+str(aa+1))\n",
    "fig2.yaxis.axis_label = 'delc/c0 (%)'\n",
    "\n",
    "fig3 = figure(x_range=fig1.x_range, tools='pan,box_zoom,undo,save,hover,crosshair')\n",
    "for aa in range(len(relRms)):\n",
    "    fig3.square(pp_amps, relRms[aa], size=8, fill_color=colors[aa], line_color=colors[aa], legend_label='T'+str(aa+1)+'R'+str(aa+1))\n",
    "\n",
    "fig3.yaxis.axis_label = 'delrms/rms0 (%)'\n",
    "fig3.xaxis.axis_label = 'PP osc. amp. (MPa)'\n",
    "\n",
    "fig2.legend.click_policy=\"hide\"\n",
    "fig3.legend.click_policy=\"hide\"\n",
    "\n",
    "fig = gridplot([fig1, fig2, fig3], ncols=1, plot_width=350, plot_height=300)\n",
    "show(fig)"
   ]
  },
  {
   "cell_type": "code",
   "execution_count": null,
   "id": "accomplished-complaint",
   "metadata": {},
   "outputs": [],
   "source": [
    "from sklearn.metrics import r2_score\n",
    "def recovFitter(pp_start, pp_end, Time, param, label):\n",
    "\n",
    "    pp_start = np.append(pp_start[1::], pp_end[-1]+(90*100))-500\n",
    "    pp_start[1] = pp_start[1]+6; pp_start[2] = pp_start[2]+4\n",
    "    pp_start[3] = pp_start[3]+3; pp_start[4] = pp_start[4]+6\n",
    "    pp_start[5] = pp_start[5]+38; pp_start[6] = pp_start[6]-30\n",
    "    pp_start[7] = pp_start[7]+4; pp_start[8] = pp_start[8]+5\n",
    "    pp_start[10] = pp_start[10]+6; pp_start[11] = pp_start[11]+2\n",
    "    pp_start[12] = pp_start[12]+8\n",
    "    \n",
    "#     pp_start[9] = pp_start[9]+165\n",
    "    \n",
    "    p = np.zeros((len(pp_end), 3))\n",
    "    q = np.empty((len(pp_end),85*100))\n",
    "    \n",
    "    for aa in range(len(pp_end)):\n",
    "        fin_idx = np.isfinite(param[pp_end[aa]:pp_start[aa]])\n",
    "        p[aa,0:2] = np.polyfit(np.log10(Time[pp_end[aa]:pp_start[aa]][fin_idx]-Time[pp_end[aa]:pp_start[aa]][fin_idx][0]+0.01), param[pp_end[aa]:pp_start[aa]][fin_idx], 1)\n",
    "        q[aa,:] = np.polyval(p[aa,0:2], np.log10(Time[pp_end[aa]:pp_start[aa]]-Time[pp_end[aa]:pp_start[aa]][0]+0.01))\n",
    "        p[aa,2] = r2_score(param[pp_end[aa]:pp_start[aa]][fin_idx], q[aa,:][fin_idx])\n",
    "\n",
    "        fig = figure(title = 'r^2 = '+str(round(p[aa,2],3)), tools='pan,box_zoom,undo,hover,crosshair') \n",
    "        fig.circle(np.log10(Time[pp_end[aa]:pp_start[aa]][fin_idx]-Time[pp_end[aa]:pp_start[aa]][fin_idx][0]+0.01), param[pp_end[aa]:pp_start[aa]][fin_idx], size=5, fill_color='black', line_color=\"black\")\n",
    "        fig.line(np.log10(Time[pp_end[aa]:pp_start[aa]]-Time[pp_end[aa]:pp_start[aa]][0]+0.01), q[aa,:], line_color=\"red\")\n",
    "        fig.yaxis.axis_label = label+' recov'\n",
    "        fig.xaxis.axis_label = 'Time (s)'\n",
    "\n",
    "        fig = gridplot([fig], ncols=1, plot_width=600, plot_height=400)\n",
    "        show(fig)\n",
    "    \n",
    "    return q, p"
   ]
  },
  {
   "cell_type": "code",
   "execution_count": null,
   "id": "3891716b-543f-4946-9691-ad2e109da75d",
   "metadata": {
    "tags": []
   },
   "outputs": [],
   "source": [
    "perm_recov = recovFitter(pp_start, pp_end, Time, perm, 'perm')\n",
    "\n",
    "permRecov = perm_recov[1][:,0]\n",
    "permRecov_r2 = perm_recov[1][:,2]"
   ]
  },
  {
   "cell_type": "code",
   "execution_count": null,
   "id": "7f21092d-7359-4fff-8459-fc89cd7af47d",
   "metadata": {
    "tags": []
   },
   "outputs": [],
   "source": [
    "vel_recov0 = recovFitter(pp_start, pp_end, Time, vel0_detrend, 'vel0')"
   ]
  },
  {
   "cell_type": "code",
   "execution_count": null,
   "id": "d668ddba-8fd7-40fc-87b4-6fe4cc41d108",
   "metadata": {
    "tags": []
   },
   "outputs": [],
   "source": [
    "vel_recov1 = recovFitter(pp_start, pp_end, Time, vel1_detrend, 'vel1')"
   ]
  },
  {
   "cell_type": "code",
   "execution_count": null,
   "id": "cab21473-2c13-44d3-bfd8-6d831771d6e8",
   "metadata": {
    "tags": []
   },
   "outputs": [],
   "source": [
    "vel_recov2 = recovFitter(pp_start, pp_end, Time, vel2_detrend, 'vel2')"
   ]
  },
  {
   "cell_type": "code",
   "execution_count": null,
   "id": "0d24a3a8-0c06-413e-84ff-d40ed33d7a2f",
   "metadata": {
    "tags": []
   },
   "outputs": [],
   "source": [
    "vel_recov3 = recovFitter(pp_start, pp_end, Time, vel3_detrend, 'vel3')"
   ]
  },
  {
   "cell_type": "code",
   "execution_count": null,
   "id": "d4e041f9-20ee-4456-9aca-24158f2271c2",
   "metadata": {
    "tags": []
   },
   "outputs": [],
   "source": [
    "vel_recov4 = recovFitter(pp_start, pp_end, Time, vel4_detrend, 'vel4')"
   ]
  },
  {
   "cell_type": "code",
   "execution_count": null,
   "id": "27797969-2fc8-49b6-b246-4a78bba4e4bb",
   "metadata": {
    "tags": []
   },
   "outputs": [],
   "source": [
    "vel_recov5 = recovFitter(pp_start, pp_end, Time, vel5_detrend, 'vel5')"
   ]
  },
  {
   "cell_type": "code",
   "execution_count": null,
   "id": "a3686a96-303b-4453-bbc1-bfbd571e031f",
   "metadata": {
    "tags": []
   },
   "outputs": [],
   "source": [
    "vel_recov6 = recovFitter(pp_start, pp_end, Time, vel6_detrend, 'vel6')"
   ]
  },
  {
   "cell_type": "code",
   "execution_count": null,
   "id": "7d01a96b-d693-40bb-85e6-cdc01c3cc041",
   "metadata": {
    "tags": []
   },
   "outputs": [],
   "source": [
    "vel_recov = np.array([vel_recov0[1][:,0], vel_recov1[1][:,0], vel_recov2[1][:,0], \n",
    "            vel_recov3[1][:,0], vel_recov4[1][:,0], vel_recov5[1][:,0], \n",
    "            vel_recov6[1][:,0]])\n",
    "\n",
    "vel_recov_r2 = np.array([vel_recov0[1][:,2], vel_recov1[1][:,2], vel_recov2[1][:,2], \n",
    "            vel_recov3[1][:,2], vel_recov4[1][:,2], vel_recov5[1][:,2], \n",
    "            vel_recov6[1][:,2]])"
   ]
  },
  {
   "cell_type": "code",
   "execution_count": null,
   "id": "f92a7172-e2cc-4bac-9e97-6b1f8a2072c9",
   "metadata": {
    "tags": []
   },
   "outputs": [],
   "source": [
    "rms_recov0 = recovFitter(pp_start, pp_end, Time, rmsAmp0_detrend, 'rms0')"
   ]
  },
  {
   "cell_type": "code",
   "execution_count": null,
   "id": "50aa9929-d642-45c8-9824-ffa9b0f867f8",
   "metadata": {
    "tags": []
   },
   "outputs": [],
   "source": [
    "rms_recov1 = recovFitter(pp_start, pp_end, Time, rmsAmp1_detrend, 'rms1')"
   ]
  },
  {
   "cell_type": "code",
   "execution_count": null,
   "id": "37b7d7d8-21db-459f-9f35-2f7366c4af80",
   "metadata": {
    "tags": []
   },
   "outputs": [],
   "source": [
    "rms_recov2 = recovFitter(pp_start, pp_end, Time, rmsAmp2_detrend, 'rms2')"
   ]
  },
  {
   "cell_type": "code",
   "execution_count": null,
   "id": "9695205d-0368-4168-8214-30be9c4bb7b8",
   "metadata": {
    "tags": []
   },
   "outputs": [],
   "source": [
    "rms_recov3 = recovFitter(pp_start, pp_end, Time, rmsAmp3_detrend, 'rms3')"
   ]
  },
  {
   "cell_type": "code",
   "execution_count": null,
   "id": "c3e33dac-373c-4098-88e6-89ae782a77b3",
   "metadata": {
    "tags": []
   },
   "outputs": [],
   "source": [
    "rms_recov4 = recovFitter(pp_start, pp_end, Time, rmsAmp4_detrend, 'rms4')"
   ]
  },
  {
   "cell_type": "code",
   "execution_count": null,
   "id": "e79ac20f-ef10-41b9-a377-fb2d3b634e01",
   "metadata": {
    "tags": []
   },
   "outputs": [],
   "source": [
    "rms_recov5 = recovFitter(pp_start, pp_end, Time, rmsAmp5_detrend, 'rms5')"
   ]
  },
  {
   "cell_type": "code",
   "execution_count": null,
   "id": "0ea111d7-e69e-4e59-9185-4176a44018cd",
   "metadata": {
    "tags": []
   },
   "outputs": [],
   "source": [
    "rms_recov6 = recovFitter(pp_start, pp_end, Time, rmsAmp6_detrend, 'rms6')"
   ]
  },
  {
   "cell_type": "code",
   "execution_count": null,
   "id": "95a2e1c0-baa9-417e-b5f5-38a804cac579",
   "metadata": {
    "tags": []
   },
   "outputs": [],
   "source": [
    "rms_recov = np.array([rms_recov0[1][:,0], rms_recov1[1][:,0], rms_recov2[1][:,0], \n",
    "            rms_recov3[1][:,0], rms_recov4[1][:,0], rms_recov5[1][:,0], \n",
    "            rms_recov6[1][:,0]])\n",
    "\n",
    "rms_recov_r2 = np.array([rms_recov0[1][:,2], rms_recov1[1][:,2], rms_recov2[1][:,2], \n",
    "            rms_recov3[1][:,2], rms_recov4[1][:,2], rms_recov5[1][:,2], \n",
    "            rms_recov6[1][:,2]])"
   ]
  },
  {
   "cell_type": "code",
   "execution_count": null,
   "id": "7e2a437f-7e22-4e00-8714-212a226c9af1",
   "metadata": {
    "tags": []
   },
   "outputs": [],
   "source": [
    "# fig1 = figure(tools='pan,box_zoom,undo,hover,crosshair') \n",
    "# fig1.circle(pp_amps, perm_recov[1][:,0], size=8, fill_color='black', line_color=\"black\")\n",
    "# fig1.yaxis.axis_label = 'log perm recov'\n",
    "\n",
    "# fig2 = figure(x_range=fig1.x_range, tools='pan,box_zoom,undo,save,hover,crosshair')\n",
    "# fig2.circle(pp_amps, vel_recov2[1][:,0], size=8, fill_color='mediumblue', line_color=\"mediumblue\", legend_label='T2R2')\n",
    "# fig2.square(pp_amps, vel_recov4[1][:,0], size=8, fill_color='mediumblue', line_color=\"mediumblue\", legend_label='T4R4')\n",
    "# fig2.yaxis.axis_label = 'log vel recov'\n",
    "\n",
    "# fig3 = figure(x_range=fig1.x_range, tools='pan,box_zoom,undo,save,hover,crosshair')\n",
    "# fig3.circle(pp_amps, rms_recov2[1][:,0], size=8, fill_color='goldenrod', line_color=\"goldenrod\", legend_label='T2R2')\n",
    "# fig3.square(pp_amps, rms_recov4[1][:,0], size=8, fill_color='goldenrod', line_color=\"goldenrod\", legend_label='T4R4')\n",
    "# fig3.yaxis.axis_label = 'log vel recov'\n",
    "\n",
    "# fig3.xaxis.axis_label = 'PP osc. amp. (MPa)'\n",
    "\n",
    "# fig2.legend.click_policy=\"hide\"\n",
    "# fig3.legend.click_policy=\"hide\"\n",
    "\n",
    "# fig2 = gridplot([fig1, fig2, fig3], ncols=1, plot_width=350, plot_height=300)\n",
    "# show(fig2)"
   ]
  },
  {
   "cell_type": "code",
   "execution_count": null,
   "id": "dbfb21cc-d290-454a-b29e-3cf121930dcb",
   "metadata": {
    "tags": []
   },
   "outputs": [],
   "source": [
    "filename = runname+'_'+run+'_summary_dat'\n",
    "np.savez_compressed(filename, pp_amps = pp_amps, relPerm=relPerm, relVel=relVel, relRms=relRms, \n",
    "                    permRecov=permRecov, permRecov_r2 = permRecov_r2, \n",
    "                    vel_recov=vel_recov, vel_recov_r2=vel_recov_r2, rms_recov=rms_recov, rms_recov_r2=rms_recov_r2)"
   ]
  }
 ],
 "metadata": {
  "kernelspec": {
   "display_name": "Python 3",
   "language": "python",
   "name": "python3"
  },
  "language_info": {
   "codemirror_mode": {
    "name": "ipython",
    "version": 3
   },
   "file_extension": ".py",
   "mimetype": "text/x-python",
   "name": "python",
   "nbconvert_exporter": "python",
   "pygments_lexer": "ipython3",
   "version": "3.9.7"
  },
  "widgets": {
   "application/vnd.jupyter.widget-state+json": {
    "state": {},
    "version_major": 2,
    "version_minor": 0
   }
  }
 },
 "nbformat": 4,
 "nbformat_minor": 5
}
