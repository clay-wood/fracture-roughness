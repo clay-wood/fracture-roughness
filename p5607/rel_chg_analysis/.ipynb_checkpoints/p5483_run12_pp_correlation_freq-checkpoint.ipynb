{
 "cells": [
  {
   "cell_type": "code",
   "execution_count": null,
   "id": "designed-tract",
   "metadata": {},
   "outputs": [],
   "source": [
    "#//////////////////////////////////////////////////////\n",
    "\n",
    "# p5483 -- RUN12\n",
    "\n",
    "#//////////////////////////////////////////////////////"
   ]
  },
  {
   "cell_type": "code",
   "execution_count": null,
   "id": "intelligent-martin",
   "metadata": {},
   "outputs": [],
   "source": [
    "# import matplotlib.pyplot as plt\n",
    "import numpy as np\n",
    "import pandas as pd\n",
    "import scipy.io as sio\n",
    "\n",
    "from corr_funcs import osc_beg_end, relChgPct, osc_amp, recovFitter, detrend, butter_filter\n",
    "\n",
    "from bokeh.plotting import figure, show, save\n",
    "from bokeh.io import output_notebook, output_file, reset_output\n",
    "from bokeh.layouts import gridplot, row, column\n",
    "output_notebook()"
   ]
  },
  {
   "cell_type": "code",
   "execution_count": null,
   "id": "architectural-crack",
   "metadata": {},
   "outputs": [],
   "source": [
    "SAVE = 1\n",
    "runname = 'p5483'\n",
    "run = 'run12'\n",
    "\n",
    "[Time, ppa, perm]  = list(map(lambda aa: np.load('../../mechData/p5483_mechdat_reduced.npz',allow_pickle=True)['arr_0'][:,aa], [0, 8, 14]))\n",
    "\n",
    "# Load Thickness\n",
    "thChange = np.load('../'+runname+'_Thickness.npz', allow_pickle=True)['ThChangeLPF']\n",
    "\n",
    "T = 0; R = 0\n",
    "[vel0,timeShift0,rmsAmp0,freqQAmp0,idxAc0] = list(map(lambda bb: np.load('../Results_wAmp/'+runname+'_'+run+'_pp_wAmp_T'+str(T+1)+'R'+str(R+1)+'.npz',allow_pickle=True)[bb], ['c_s','timeShift','rms','freqQAmp','idxAc']))\n",
    "\n",
    "T = 1; R = 1\n",
    "[vel1,timeShift1,rmsAmp1,freqQAmp1,idxAc1] = list(map(lambda bb: np.load('../Results_wAmp/'+runname+'_'+run+'_pp_wAmp_T'+str(T+1)+'R'+str(R+1)+'.npz',allow_pickle=True)[bb], ['c_s','timeShift','rms','freqQAmp','idxAc']))\n",
    "\n",
    "T = 2; R = 2\n",
    "[vel2,timeShift2,rmsAmp2,freqQAmp2,idxAc2] = list(map(lambda bb: np.load('../Results_wAmp/'+runname+'_'+run+'_pp_wAmp_T'+str(T+1)+'R'+str(R+1)+'.npz',allow_pickle=True)[bb], ['c_s','timeShift','rms','freqQAmp','idxAc']))\n",
    "\n",
    "T = 3; R = 3\n",
    "[vel3,timeShift3,rmsAmp3,freqQAmp3,idxAc3] = list(map(lambda bb: np.load('../Results_wAmp/'+runname+'_'+run+'_pp_wAmp_T'+str(T+1)+'R'+str(R+1)+'.npz',allow_pickle=True)[bb], ['c_s','timeShift','rms','freqQAmp','idxAc']))\n",
    "\n",
    "T = 4; R = 4\n",
    "[vel4,timeShift4,rmsAmp4,freqQAmp4,idxAc4] = list(map(lambda bb: np.load('../Results_wAmp/'+runname+'_'+run+'_pp_wAmp_T'+str(T+1)+'R'+str(R+1)+'.npz',allow_pickle=True)[bb], ['c_s','timeShift','rms','freqQAmp','idxAc']))\n",
    "\n",
    "T = 5; R = 5\n",
    "[vel5,timeShift5,rmsAmp5,freqQAmp5,idxAc5] = list(map(lambda bb: np.load('../Results_wAmp/'+runname+'_'+run+'_pp_wAmp_T'+str(T+1)+'R'+str(R+1)+'.npz',allow_pickle=True)[bb], ['c_s','timeShift','rms','freqQAmp','idxAc']))\n",
    "\n",
    "T = 6; R = 6\n",
    "[vel6,timeShift6,rmsAmp6,freqQAmp6,idxAc6] = list(map(lambda bb: np.load('../Results_wAmp/'+runname+'_'+run+'_pp_wAmp_T'+str(T+1)+'R'+str(R+1)+'.npz',allow_pickle=True)[bb], ['c_s','timeShift','rms','freqQAmp','idxAc']))\n",
    "\n",
    "ppa = ppa[idxAc2]\n",
    "perm = perm[idxAc2]"
   ]
  },
  {
   "cell_type": "code",
   "execution_count": null,
   "id": "knowing-retrieval",
   "metadata": {},
   "outputs": [],
   "source": [
    "vel0_detrend = detrend(Time[idxAc0], vel0)\n",
    "vel1_detrend = detrend(Time[idxAc1], vel1)\n",
    "vel2_detrend = detrend(Time[idxAc2], vel2)\n",
    "vel3_detrend = detrend(Time[idxAc3], vel3)\n",
    "vel4_detrend = detrend(Time[idxAc4], vel4)\n",
    "vel5_detrend = detrend(Time[idxAc5], vel5)\n",
    "vel6_detrend = detrend(Time[idxAc6], vel6)\n",
    "\n",
    "\n",
    "rmsAmp0_filt = butter_filter(rmsAmp0, 5e-2, 100, 1, 'high')+rmsAmp0[0]\n",
    "rmsAmp1_filt = butter_filter(rmsAmp1, 5e-2, 100, 1, 'high')+rmsAmp1[0]\n",
    "rmsAmp2_filt = butter_filter(rmsAmp2, 5e-2, 100, 1, 'high')+rmsAmp2[0]\n",
    "rmsAmp3_filt = butter_filter(rmsAmp3, 5e-2, 100, 1, 'high')+rmsAmp3[0]\n",
    "# rmsAmp4_filt = butter_filter(rmsAmp4, 5e-2, 100, 1, 'high')+rmsAmp4[0]\n",
    "rmsAmp5_filt = butter_filter(rmsAmp5, 5e-2, 100, 1, 'high')+rmsAmp5[0]\n",
    "rmsAmp6_filt = butter_filter(rmsAmp6, 5e-2, 100, 1, 'high')+rmsAmp6[0]\n",
    "\n",
    "rmsAmp4_detrend = detrend(Time[idxAc2], rmsAmp4)\n",
    "# perm_detrend = detrend(Time[idxAc2], perm)"
   ]
  },
  {
   "cell_type": "code",
   "execution_count": null,
   "id": "western-method",
   "metadata": {},
   "outputs": [],
   "source": [
    "fig31 = figure(title='T'+str(T+1)+' --> R'+str(R+1), tools='pan,box_zoom,undo,hover,crosshair') \n",
    "fig31.line(Time[idxAc2+80], ppa, line_width=1.5, line_color=\"crimson\")\n",
    "fig31.yaxis.axis_label = 'effNS (MPa)'\n",
    "\n",
    "fig32 = figure(x_range=fig31.x_range, tools='pan,box_zoom,undo,save,hover,crosshair')\n",
    "fig32.line(Time[idxAc2], vel2_detrend, line_width=1.5, line_color=\"mediumblue\")\n",
    "fig32.line(Time[idxAc2], vel2, line_width=1.5, line_color=\"magenta\")\n",
    "fig32.yaxis.axis_label = 'Velocity (km/s)'\n",
    "\n",
    "fig33 = figure(x_range=fig31.x_range, tools='pan,box_zoom,undo,save,hover,crosshair')\n",
    "fig33.line(Time[idxAc2], rmsAmp2, line_width=1.5, line_color=\"goldenrod\")\n",
    "fig33.line(Time[idxAc2], rmsAmp2_filt, line_width=1.5, line_color=\"magenta\")\n",
    "fig33.yaxis.axis_label = 'RMS amp'\n",
    "\n",
    "fig34 = figure(x_range=fig31.x_range, tools='pan,box_zoom,undo,save,hover,crosshair', y_axis_type=\"log\", y_range=(1e-19, 1e-16))\n",
    "fig34.circle(Time[idxAc2], perm,size=5, fill_color='black', line_color=\"black\")\n",
    "fig34.yaxis.axis_label = 'Permeability (m^2)'\n",
    "fig34.xaxis.axis_label = 'Time (s)'\n",
    "\n",
    "fig3 = gridplot([fig31, fig32, fig33, fig34], ncols=1, plot_width=800, plot_height=250)\n",
    "show(fig3)"
   ]
  },
  {
   "cell_type": "code",
   "execution_count": null,
   "id": "black-visit",
   "metadata": {},
   "outputs": [],
   "source": [
    "# import scipy.fftpack\n",
    "# N = len(rmsAmp2)\n",
    "# T = 0.01\n",
    "\n",
    "# yf = scipy.fftpack.fft(rmsAmp2)\n",
    "# xf = np.linspace(0.0, 1.0//(2.0*T), N//2)\n",
    "\n",
    "# fig4 = figure(tools='pan,box_zoom,undo,save,hover,crosshair', x_axis_type=\"log\",y_axis_type=\"log\")\n",
    "# fig4.line(xf, 2.0/N * np.abs(yf[:N//2]), line_width=1.5, line_color=\"goldenrod\")\n",
    "# fig4.yaxis.axis_label = 'RMS amp'\n",
    "# show(fig4)"
   ]
  },
  {
   "cell_type": "code",
   "execution_count": null,
   "id": "faced-jaguar",
   "metadata": {},
   "outputs": [],
   "source": [
    "# 1346000+291470 - idxAc2[0]"
   ]
  },
  {
   "cell_type": "code",
   "execution_count": null,
   "id": "former-residence",
   "metadata": {},
   "outputs": [],
   "source": [
    "startTime, endTime = osc_beg_end(625,7)\n",
    "before = startTime - (1 * 100)\n",
    "after = endTime + (1*100)"
   ]
  },
  {
   "cell_type": "code",
   "execution_count": null,
   "id": "attached-graphics",
   "metadata": {},
   "outputs": [],
   "source": [
    "# sections = np.array([[45200,504200],[509300,859200],[863000,1136600],[1346000,1718200], [1727000,2166000],\n",
    "# [2171400,2349700],[2372800,2561000],[2568000,2760800],[2836900,3019000]])"
   ]
  },
  {
   "cell_type": "code",
   "execution_count": null,
   "id": "pharmaceutical-senior",
   "metadata": {},
   "outputs": [],
   "source": [
    "pp_start, pp_end = osc_beg_end(625+83,7)\n",
    "\n",
    "pp_amps = osc_amp(ppa, pp_start, pp_end)\n",
    "\n",
    "relPerm = relChgPct(perm, 2, 2, pp_start, pp_end)\n",
    "\n",
    "relVel = np.array([relChgPct(vel0_detrend, 1, 1, pp_start, pp_end), relChgPct(vel1_detrend, 1, 1, pp_start, pp_end), \n",
    "                  relChgPct(vel2_detrend, 1, 1, pp_start, pp_end), relChgPct(vel3_detrend, 1, 1, pp_start, pp_end), \n",
    "                  relChgPct(vel4_detrend, 1, 1, pp_start, pp_end), relChgPct(vel5_detrend, 1, 1, pp_start, pp_end), \n",
    "                  relChgPct(vel6_detrend, 1, 1, pp_start, pp_end)])\n",
    "\n",
    "relRms = np.array([relChgPct(rmsAmp0_filt, 1, 1, pp_start, pp_end), relChgPct(rmsAmp1_filt, 1, 1, pp_start, pp_end), \n",
    "                  relChgPct(rmsAmp2_filt, 1, 1, pp_start, pp_end), relChgPct(rmsAmp3_filt, 1, 1, pp_start, pp_end), \n",
    "                  relChgPct(rmsAmp4_detrend, 1, 1, pp_start, pp_end), relChgPct(rmsAmp5_filt, 1, 1, pp_start, pp_end), \n",
    "                  relChgPct(rmsAmp6_filt, 1, 1, pp_start, pp_end)])"
   ]
  },
  {
   "cell_type": "code",
   "execution_count": null,
   "id": "reserved-charity",
   "metadata": {},
   "outputs": [],
   "source": [
    "# fig31 = figure(title='T'+str(T+1)+' --> R'+str(R+1), tools='pan,box_zoom,undo,hover,crosshair') \n",
    "# fig31.line(Time[idxAc2+80], ppa, line_width=1.5, line_color=\"crimson\")\n",
    "# fig31.yaxis.axis_label = 'effNS (MPa)'\n",
    "\n",
    "# fig32 = figure(x_range=fig31.x_range, tools='pan,box_zoom,undo,save,hover,crosshair')\n",
    "# fig32.line(Time[idxAc2], vel2_detrend, line_width=1.5, line_color=\"mediumblue\")\n",
    "# fig32.line(Time[idxAc2], vel2, line_width=1.5, line_color=\"magenta\")\n",
    "# fig32.circle(Time[idxAc2][pp_start], vel2[pp_start], size=5, line_color=\"black\", fill_color='black')\n",
    "# fig32.circle(Time[idxAc2][pp_end], vel2[pp_end], size=5, line_color=\"black\", fill_color='black')\n",
    "# fig32.yaxis.axis_label = 'Velocity (km/s)'\n",
    "\n",
    "# fig33 = figure(x_range=fig31.x_range, tools='pan,box_zoom,undo,save,hover,crosshair')\n",
    "# fig33.line(Time[idxAc2], rmsAmp2, line_width=1.5, line_color=\"goldenrod\")\n",
    "# fig33.line(Time[idxAc2], rmsAmp2_detrend, line_width=1.5, line_color=\"magenta\")\n",
    "# fig33.yaxis.axis_label = 'RMS amp'\n",
    "\n",
    "# fig34 = figure(x_range=fig31.x_range, tools='pan,box_zoom,undo,save,hover,crosshair', y_axis_type=\"log\", y_range=(1e-19, 1e-16))\n",
    "# fig34.circle(Time[idxAc2], perm,size=5, fill_color='black', line_color=\"black\")\n",
    "# fig34.yaxis.axis_label = 'Permeability (m^2)'\n",
    "# fig34.xaxis.axis_label = 'Time (s)'\n",
    "\n",
    "# fig3 = gridplot([fig31, fig32, fig33, fig34], ncols=1, plot_width=800, plot_height=250)\n",
    "# show(fig3)"
   ]
  },
  {
   "cell_type": "code",
   "execution_count": null,
   "id": "4fc4f3c0-aa3e-409d-95ff-c622f90a7809",
   "metadata": {},
   "outputs": [],
   "source": [
    "fig1 = figure(tools='pan,box_zoom,undo,hover,crosshair') \n",
    "fig1.circle(pp_amps, relPerm, size=8, fill_color='black', line_color=\"black\")\n",
    "fig1.yaxis.axis_label = 'delk/k0 (%)'\n",
    "colors = ['dodgerblue', 'mediumblue', 'navy', 'pink', 'deeppink', 'mediumvioletred', 'goldenrod']\n",
    "\n",
    "fig2 = figure(x_range=fig1.x_range, tools='pan,box_zoom,undo,save,hover,crosshair')\n",
    "for aa in range(len(relVel)):\n",
    "    fig2.circle(pp_amps, relVel[aa], size=8, fill_color=colors[aa], line_color=colors[aa], legend_label='T'+str(aa+1)+'R'+str(aa+1))\n",
    "fig2.yaxis.axis_label = 'delc/c0 (%)'\n",
    "\n",
    "fig3 = figure(x_range=fig1.x_range, tools='pan,box_zoom,undo,save,hover,crosshair')\n",
    "for aa in range(len(relRms)):\n",
    "    fig3.square(pp_amps, relRms[aa], size=8, fill_color=colors[aa], line_color=colors[aa], legend_label='T'+str(aa+1)+'R'+str(aa+1))\n",
    "\n",
    "fig3.yaxis.axis_label = 'delrms/rms0 (%)'\n",
    "fig3.xaxis.axis_label = 'PP osc. amp. (MPa)'\n",
    "\n",
    "fig2.legend.click_policy=\"hide\"\n",
    "fig3.legend.click_policy=\"hide\"\n",
    "\n",
    "fig = gridplot([fig1, fig2, fig3], ncols=1, plot_width=350, plot_height=300)\n",
    "show(fig)"
   ]
  },
  {
   "cell_type": "code",
   "execution_count": null,
   "id": "5025d0dd-45cd-496f-8e64-b9c2cfef4a47",
   "metadata": {
    "tags": []
   },
   "outputs": [],
   "source": [
    "perm_recov = recovFitter(pp_start, pp_end, Time, perm, 'perm')\n",
    "\n",
    "permRecov = perm_recov[1][:,0]\n",
    "permRecov_r2 = perm_recov[1][:,2]"
   ]
  },
  {
   "cell_type": "code",
   "execution_count": null,
   "id": "3f8ba717-69c6-46b8-b443-b176684dcb9e",
   "metadata": {
    "tags": []
   },
   "outputs": [],
   "source": [
    "vel_recov0 = recovFitter(pp_start, pp_end, Time, vel0_detrend, 'vel0')"
   ]
  },
  {
   "cell_type": "code",
   "execution_count": null,
   "id": "e2aedce3-5308-417e-bbb3-1e642a66ee35",
   "metadata": {
    "tags": []
   },
   "outputs": [],
   "source": [
    "vel_recov1 = recovFitter(pp_start, pp_end, Time, vel1_detrend, 'vel1')"
   ]
  },
  {
   "cell_type": "code",
   "execution_count": null,
   "id": "c00d408e-b77f-486b-86e6-54e4a539e17b",
   "metadata": {
    "tags": []
   },
   "outputs": [],
   "source": [
    "vel_recov2 = recovFitter(pp_start, pp_end, Time, vel2_detrend, 'vel2')"
   ]
  },
  {
   "cell_type": "code",
   "execution_count": null,
   "id": "e9635551-68fd-4e15-8bac-ea88614efa9b",
   "metadata": {
    "tags": []
   },
   "outputs": [],
   "source": [
    "vel_recov3 = recovFitter(pp_start, pp_end, Time, vel3_detrend, 'vel3')"
   ]
  },
  {
   "cell_type": "code",
   "execution_count": null,
   "id": "ec6378c3-8544-484c-ab3f-562b0c30c858",
   "metadata": {
    "tags": []
   },
   "outputs": [],
   "source": [
    "vel_recov4 = recovFitter(pp_start, pp_end, Time, vel4_detrend, 'vel4')"
   ]
  },
  {
   "cell_type": "code",
   "execution_count": null,
   "id": "93c7ee8a-f618-45ef-8a11-6754419fb0ef",
   "metadata": {
    "tags": []
   },
   "outputs": [],
   "source": [
    "vel_recov5 = recovFitter(pp_start, pp_end, Time, vel5_detrend, 'vel5')"
   ]
  },
  {
   "cell_type": "code",
   "execution_count": null,
   "id": "a5d7165f-3a3f-43cc-b85b-a9186d0ad5d5",
   "metadata": {
    "tags": []
   },
   "outputs": [],
   "source": [
    "vel_recov6 = recovFitter(pp_start, pp_end, Time, vel6_detrend, 'vel6')"
   ]
  },
  {
   "cell_type": "code",
   "execution_count": null,
   "id": "d504ae9e-5ab6-41b6-aba1-d5e4fe78ea61",
   "metadata": {
    "tags": []
   },
   "outputs": [],
   "source": [
    "vel_recov = np.array([vel_recov0[1][:,0], vel_recov1[1][:,0], vel_recov2[1][:,0], \n",
    "            vel_recov3[1][:,0], vel_recov4[1][:,0], vel_recov5[1][:,0], \n",
    "            vel_recov6[1][:,0]])\n",
    "\n",
    "vel_recov_r2 = np.array([vel_recov0[1][:,2], vel_recov1[1][:,2], vel_recov2[1][:,2], \n",
    "            vel_recov3[1][:,2], vel_recov4[1][:,2], vel_recov5[1][:,2], \n",
    "            vel_recov6[1][:,2]])"
   ]
  },
  {
   "cell_type": "code",
   "execution_count": null,
   "id": "7f2f0d10-fd81-42a4-9cff-5582b250a6c8",
   "metadata": {
    "tags": []
   },
   "outputs": [],
   "source": [
    "rms_recov0 = recovFitter(pp_start, pp_end, Time, rmsAmp0_filt, 'rms0')"
   ]
  },
  {
   "cell_type": "code",
   "execution_count": null,
   "id": "90000253-c206-43e9-94ac-22b9414757df",
   "metadata": {
    "tags": []
   },
   "outputs": [],
   "source": [
    "rms_recov1 = recovFitter(pp_start, pp_end, Time, rmsAmp1_filt, 'rms1')"
   ]
  },
  {
   "cell_type": "code",
   "execution_count": null,
   "id": "f121a18c-7fee-46f9-a7c4-1961ee4a4895",
   "metadata": {
    "tags": []
   },
   "outputs": [],
   "source": [
    "rms_recov2 = recovFitter(pp_start, pp_end, Time, rmsAmp2_filt, 'rms2')"
   ]
  },
  {
   "cell_type": "code",
   "execution_count": null,
   "id": "d4e9fb32-5dcc-4c34-b10e-9f3b8fee7fb8",
   "metadata": {
    "tags": []
   },
   "outputs": [],
   "source": [
    "rms_recov3 = recovFitter(pp_start, pp_end, Time, rmsAmp3_filt, 'rms3')"
   ]
  },
  {
   "cell_type": "code",
   "execution_count": null,
   "id": "1519b78b-4396-44f9-ba8d-77a7b333b8be",
   "metadata": {
    "tags": []
   },
   "outputs": [],
   "source": [
    "rms_recov4 = recovFitter(pp_start, pp_end, Time, rmsAmp4_detrend, 'rms4')"
   ]
  },
  {
   "cell_type": "code",
   "execution_count": null,
   "id": "e39f290a-47fa-4573-9f5e-c3f8a085b314",
   "metadata": {
    "tags": []
   },
   "outputs": [],
   "source": [
    "rms_recov5 = recovFitter(pp_start, pp_end, Time, rmsAmp5_filt, 'rms5')"
   ]
  },
  {
   "cell_type": "code",
   "execution_count": null,
   "id": "9841fe73-bbdd-4257-a6b6-0bdc16e62e8c",
   "metadata": {
    "tags": []
   },
   "outputs": [],
   "source": [
    "rms_recov6 = recovFitter(pp_start, pp_end, Time, rmsAmp6_filt, 'rms6')"
   ]
  },
  {
   "cell_type": "code",
   "execution_count": null,
   "id": "f21192b3-cf3d-42ce-be75-659b40b4e73d",
   "metadata": {
    "tags": []
   },
   "outputs": [],
   "source": [
    "rms_recov = np.array([rms_recov0[1][:,0], rms_recov1[1][:,0], rms_recov2[1][:,0], \n",
    "            rms_recov3[1][:,0], rms_recov4[1][:,0], rms_recov5[1][:,0], \n",
    "            rms_recov6[1][:,0]])\n",
    "\n",
    "rms_recov_r2 = np.array([rms_recov0[1][:,2], rms_recov1[1][:,2], rms_recov2[1][:,2], \n",
    "            rms_recov3[1][:,2], rms_recov4[1][:,2], rms_recov5[1][:,2], \n",
    "            rms_recov6[1][:,2]])"
   ]
  },
  {
   "cell_type": "code",
   "execution_count": null,
   "id": "de9e66bd-d096-4ce9-bac0-2a11df532320",
   "metadata": {
    "tags": []
   },
   "outputs": [],
   "source": [
    "# fig1 = figure(tools='pan,box_zoom,undo,hover,crosshair') \n",
    "# fig1.circle(pp_amps, perm_recov[1][:,0], size=8, fill_color='black', line_color=\"black\")\n",
    "# fig1.yaxis.axis_label = 'log perm recov'\n",
    "\n",
    "# fig2 = figure(x_range=fig1.x_range, tools='pan,box_zoom,undo,save,hover,crosshair')\n",
    "# fig2.circle(pp_amps, vel_recov2[1][:,0], size=8, fill_color='mediumblue', line_color=\"mediumblue\", legend_label='T2R2')\n",
    "# fig2.square(pp_amps, vel_recov4[1][:,0], size=8, fill_color='mediumblue', line_color=\"mediumblue\", legend_label='T4R4')\n",
    "# fig2.yaxis.axis_label = 'log vel recov'\n",
    "\n",
    "# fig3 = figure(x_range=fig1.x_range, tools='pan,box_zoom,undo,save,hover,crosshair')\n",
    "# fig3.circle(pp_amps, rms_recov2[1][:,0], size=8, fill_color='goldenrod', line_color=\"goldenrod\", legend_label='T2R2')\n",
    "# fig3.square(pp_amps, rms_recov4[1][:,0], size=8, fill_color='goldenrod', line_color=\"goldenrod\", legend_label='T4R4')\n",
    "# fig3.yaxis.axis_label = 'log vel recov'\n",
    "\n",
    "# fig3.xaxis.axis_label = 'PP osc. amp. (MPa)'\n",
    "\n",
    "# fig2.legend.click_policy=\"hide\"\n",
    "# fig3.legend.click_policy=\"hide\"\n",
    "\n",
    "# fig2 = gridplot([fig1, fig2, fig3], ncols=1, plot_width=350, plot_height=300)\n",
    "# show(fig2)"
   ]
  },
  {
   "cell_type": "code",
   "execution_count": null,
   "id": "a41668cc-be16-4026-ae7d-f9145ef8d008",
   "metadata": {
    "tags": []
   },
   "outputs": [],
   "source": [
    "filename = runname+'_'+run+'_summary_dat'\n",
    "np.savez_compressed(filename, pp_amps = pp_amps, relPerm=relPerm, relVel=relVel, relRms=relRms, \n",
    "                    permRecov=permRecov, permRecov_r2 = permRecov_r2, \n",
    "                    vel_recov=vel_recov, vel_recov_r2=vel_recov_r2, rms_recov=rms_recov, rms_recov_r2=rms_recov_r2)"
   ]
  },
  {
   "cell_type": "code",
   "execution_count": null,
   "id": "11696702-0904-4482-a39c-305fb2852c0d",
   "metadata": {},
   "outputs": [],
   "source": []
  }
 ],
 "metadata": {
  "kernelspec": {
   "display_name": "Python 3",
   "language": "python",
   "name": "python3"
  },
  "language_info": {
   "codemirror_mode": {
    "name": "ipython",
    "version": 3
   },
   "file_extension": ".py",
   "mimetype": "text/x-python",
   "name": "python",
   "nbconvert_exporter": "python",
   "pygments_lexer": "ipython3",
   "version": "3.9.7"
  },
  "widgets": {
   "application/vnd.jupyter.widget-state+json": {
    "state": {},
    "version_major": 2,
    "version_minor": 0
   }
  }
 },
 "nbformat": 4,
 "nbformat_minor": 5
}
