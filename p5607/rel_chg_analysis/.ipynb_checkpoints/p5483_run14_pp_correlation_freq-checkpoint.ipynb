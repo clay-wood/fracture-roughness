{
 "cells": [
  {
   "cell_type": "code",
   "execution_count": null,
   "id": "continued-consent",
   "metadata": {},
   "outputs": [],
   "source": [
    "#//////////////////////////////////////////////////////\n",
    "\n",
    "# p5483 -- RUN14\n",
    "\n",
    "#//////////////////////////////////////////////////////"
   ]
  },
  {
   "cell_type": "code",
   "execution_count": null,
   "id": "imposed-spank",
   "metadata": {},
   "outputs": [],
   "source": [
    "# import matplotlib.pyplot as plt\n",
    "import numpy as np\n",
    "import pandas as pd\n",
    "import scipy.io as sio\n",
    "\n",
    "from corr_funcs import osc_beg_end, relChgPct, osc_amp, recovFitter, detrend\n",
    "\n",
    "from bokeh.plotting import figure, show, save\n",
    "from bokeh.io import output_notebook, output_file, reset_output\n",
    "from bokeh.layouts import gridplot, row, column\n",
    "output_notebook()"
   ]
  },
  {
   "cell_type": "code",
   "execution_count": null,
   "id": "false-senior",
   "metadata": {},
   "outputs": [],
   "source": [
    "SAVE = 1\n",
    "runname = 'p5483'\n",
    "run = 'run14'\n",
    "\n",
    "[Time, ppa, perm]  = list(map(lambda aa: np.load('../../mechData/p5483_mechdat_reduced.npz',allow_pickle=True)['arr_0'][:,aa], [0, 8, 14]))\n",
    "\n",
    "# Load Thickness\n",
    "thChange = np.load('../'+runname+'_Thickness.npz', allow_pickle=True)['ThChangeLPF']\n",
    "\n",
    "T = 0; R = 0\n",
    "[vel0,timeShift0,rmsAmp0,freqQAmp0,idxAc0] = list(map(lambda bb: np.load('../Results_wAmp/'+runname+'_'+run+'_pp_wAmp_T'+str(T+1)+'R'+str(R+1)+'.npz',allow_pickle=True)[bb], ['c_s','timeShift','rms','freqQAmp','idxAc']))\n",
    "\n",
    "T = 1; R = 1\n",
    "[vel1,timeShift1,rmsAmp1,freqQAmp1,idxAc1] = list(map(lambda bb: np.load('../Results_wAmp/'+runname+'_'+run+'_pp_wAmp_T'+str(T+1)+'R'+str(R+1)+'.npz',allow_pickle=True)[bb], ['c_s','timeShift','rms','freqQAmp','idxAc']))\n",
    "\n",
    "T = 2; R = 2\n",
    "[vel2,timeShift2,rmsAmp2,freqQAmp2,idxAc2] = list(map(lambda bb: np.load('../Results_wAmp/'+runname+'_'+run+'_pp_wAmp_T'+str(T+1)+'R'+str(R+1)+'.npz',allow_pickle=True)[bb], ['c_s','timeShift','rms','freqQAmp','idxAc']))\n",
    "\n",
    "T = 3; R = 3\n",
    "[vel3,timeShift3,rmsAmp3,freqQAmp3,idxAc3] = list(map(lambda bb: np.load('../Results_wAmp/'+runname+'_'+run+'_pp_wAmp_T'+str(T+1)+'R'+str(R+1)+'.npz',allow_pickle=True)[bb], ['c_s','timeShift','rms','freqQAmp','idxAc']))\n",
    "\n",
    "T = 4; R = 4\n",
    "[vel4,timeShift4,rmsAmp4,freqQAmp4,idxAc4] = list(map(lambda bb: np.load('../Results_wAmp/'+runname+'_'+run+'_pp_wAmp_T'+str(T+1)+'R'+str(R+1)+'.npz',allow_pickle=True)[bb], ['c_s','timeShift','rms','freqQAmp','idxAc']))\n",
    "\n",
    "T = 5; R = 5\n",
    "[vel5,timeShift5,rmsAmp5,freqQAmp5,idxAc5] = list(map(lambda bb: np.load('../Results_wAmp/'+runname+'_'+run+'_pp_wAmp_T'+str(T+1)+'R'+str(R+1)+'.npz',allow_pickle=True)[bb], ['c_s','timeShift','rms','freqQAmp','idxAc']))\n",
    "\n",
    "T = 6; R = 6\n",
    "[vel6,timeShift6,rmsAmp6,freqQAmp6,idxAc6] = list(map(lambda bb: np.load('../Results_wAmp/'+runname+'_'+run+'_pp_wAmp_T'+str(T+1)+'R'+str(R+1)+'.npz',allow_pickle=True)[bb], ['c_s','timeShift','rms','freqQAmp','idxAc']))\n",
    "\n",
    "ppa = ppa[idxAc2]\n",
    "perm = perm[idxAc2]"
   ]
  },
  {
   "cell_type": "code",
   "execution_count": null,
   "id": "detailed-recipe",
   "metadata": {},
   "outputs": [],
   "source": [
    "vel0_detrend = detrend(Time[idxAc0], vel0)\n",
    "vel1_detrend = detrend(Time[idxAc1], vel1)\n",
    "vel2_detrend = detrend(Time[idxAc2], vel2)\n",
    "vel3_detrend = detrend(Time[idxAc3], vel3)\n",
    "vel4_detrend = detrend(Time[idxAc4], vel4)\n",
    "vel5_detrend = detrend(Time[idxAc5], vel5)\n",
    "vel6_detrend = detrend(Time[idxAc6], vel6)\n",
    "\n",
    "rmsAmp0_detrend = detrend(Time[idxAc0], rmsAmp0)\n",
    "rmsAmp1_detrend = detrend(Time[idxAc1], rmsAmp1)\n",
    "rmsAmp2_detrend = detrend(Time[idxAc2], rmsAmp2)\n",
    "rmsAmp3_detrend = detrend(Time[idxAc3], rmsAmp3)\n",
    "rmsAmp4_detrend = detrend(Time[idxAc4], rmsAmp4)\n",
    "rmsAmp5_detrend = detrend(Time[idxAc5], rmsAmp5)\n",
    "rmsAmp6_detrend = detrend(Time[idxAc6], rmsAmp6)\n",
    "# perm_detrend = detrend(Time[idxAc2], perm)"
   ]
  },
  {
   "cell_type": "code",
   "execution_count": null,
   "id": "emotional-contact",
   "metadata": {},
   "outputs": [],
   "source": [
    "fig31 = figure(title='T'+str(T+1)+' --> R'+str(R+1), tools='pan,box_zoom,undo,hover,crosshair') \n",
    "fig31.line(Time[idxAc2], ppa, line_width=1.5, line_color=\"crimson\")\n",
    "fig31.yaxis.axis_label = 'effNS (MPa)'\n",
    "\n",
    "fig32 = figure(x_range=fig31.x_range, tools='pan,box_zoom,undo,save,hover,crosshair')\n",
    "fig32.line(Time[idxAc2], vel2_detrend, line_width=1.5, line_color=\"mediumblue\")\n",
    "fig32.line(Time[idxAc2], vel2, line_width=1.5, line_color=\"magenta\")\n",
    "fig32.yaxis.axis_label = 'Velocity (km/s)'\n",
    "\n",
    "fig33 = figure(x_range=fig31.x_range, tools='pan,box_zoom,undo,save,hover,crosshair')\n",
    "fig33.line(Time[idxAc2], rmsAmp2, line_width=1.5, line_color=\"goldenrod\")\n",
    "fig33.line(Time[idxAc2], rmsAmp2_detrend, line_width=1.5, line_color=\"magenta\")\n",
    "fig33.yaxis.axis_label = 'RMS amp'\n",
    "\n",
    "fig34 = figure(x_range=fig31.x_range, tools='pan,box_zoom,undo,save,hover,crosshair', y_axis_type=\"log\", y_range=(1e-19, 1e-16))\n",
    "fig34.circle(Time[idxAc2], perm,size=5, fill_color='black', line_color=\"black\")\n",
    "fig34.yaxis.axis_label = 'Permeability (m^2)'\n",
    "fig34.xaxis.axis_label = 'Time (s)'\n",
    "\n",
    "fig3 = gridplot([fig31, fig32, fig33, fig34], ncols=1, plot_width=800, plot_height=250)\n",
    "show(fig3)"
   ]
  },
  {
   "cell_type": "code",
   "execution_count": null,
   "id": "satisfactory-construction",
   "metadata": {},
   "outputs": [],
   "source": [
    "# 1727000+113262 - idxAc2[0]"
   ]
  },
  {
   "cell_type": "code",
   "execution_count": null,
   "id": "foster-packet",
   "metadata": {},
   "outputs": [],
   "source": [
    "startTime, endTime = osc_beg_end(664,14)\n",
    "before = startTime - (1 * 100)\n",
    "after = endTime + (1*100)"
   ]
  },
  {
   "cell_type": "code",
   "execution_count": null,
   "id": "smooth-processing",
   "metadata": {},
   "outputs": [],
   "source": [
    "# sections = np.array([[45200,504200],[509300,859200],[863000,1136600],[1346000,1718200], [1727000,2166000],\n",
    "# [2171400,2349700],[2372800,2561000],[2568000,2760800],[2836900,3019000]])"
   ]
  },
  {
   "cell_type": "code",
   "execution_count": null,
   "id": "under-market",
   "metadata": {},
   "outputs": [],
   "source": [
    "pp_start, pp_end = osc_beg_end(664,14)\n",
    "\n",
    "pp_amps = osc_amp(ppa, pp_start, pp_end)\n",
    "\n",
    "relPerm = relChgPct(perm, 2, 2, pp_start, pp_end)\n",
    "\n",
    "#-----------------------------------------------------------------\n",
    "\n",
    "relVel = np.array([relChgPct(vel0_detrend, 1, 1, pp_start, pp_end), relChgPct(vel1_detrend, 1, 1, pp_start, pp_end), \n",
    "                  relChgPct(vel2_detrend, 1, 1, pp_start, pp_end), relChgPct(vel3_detrend, 1, 1, pp_start, pp_end), \n",
    "                  relChgPct(vel4_detrend, 1, 1, pp_start, pp_end), relChgPct(vel5_detrend, 1, 1, pp_start, pp_end), \n",
    "                  relChgPct(vel6_detrend, 1, 1, pp_start, pp_end)])\n",
    "\n",
    "relRms = np.array([relChgPct(rmsAmp0_detrend, 1, 1, pp_start, pp_end), relChgPct(rmsAmp1_detrend, 1, 1, pp_start, pp_end), \n",
    "                  relChgPct(rmsAmp2_detrend, 1, 1, pp_start, pp_end), relChgPct(rmsAmp3_detrend, 1, 1, pp_start, pp_end), \n",
    "                  relChgPct(rmsAmp4_detrend, 1, 1, pp_start, pp_end), relChgPct(rmsAmp5_detrend, 1, 1, pp_start, pp_end), \n",
    "                  relChgPct(rmsAmp6_detrend, 1, 1, pp_start, pp_end)])"
   ]
  },
  {
   "cell_type": "code",
   "execution_count": null,
   "id": "83208baa-ee6a-423d-87b8-b9f0347a0f21",
   "metadata": {},
   "outputs": [],
   "source": [
    "fig1 = figure(tools='pan,box_zoom,undo,hover,crosshair') \n",
    "fig1.circle(pp_amps, relPerm, size=8, fill_color='black', line_color=\"black\")\n",
    "fig1.yaxis.axis_label = 'delk/k0 (%)'\n",
    "colors = ['dodgerblue', 'mediumblue', 'navy', 'pink', 'deeppink', 'mediumvioletred', 'goldenrod']\n",
    "\n",
    "fig2 = figure(x_range=fig1.x_range, tools='pan,box_zoom,undo,save,hover,crosshair')\n",
    "for aa in range(len(relVel)):\n",
    "    fig2.circle(pp_amps, relVel[aa], size=8, fill_color=colors[aa], line_color=colors[aa], legend_label='T'+str(aa+1)+'R'+str(aa+1))\n",
    "fig2.yaxis.axis_label = 'delc/c0 (%)'\n",
    "\n",
    "fig3 = figure(x_range=fig1.x_range, tools='pan,box_zoom,undo,save,hover,crosshair')\n",
    "for aa in range(len(relRms)):\n",
    "    fig3.square(pp_amps, relRms[aa], size=8, fill_color=colors[aa], line_color=colors[aa], legend_label='T'+str(aa+1)+'R'+str(aa+1))\n",
    "\n",
    "fig3.yaxis.axis_label = 'delrms/rms0 (%)'\n",
    "fig3.xaxis.axis_label = 'PP osc. amp. (MPa)'\n",
    "\n",
    "fig2.legend.click_policy=\"hide\"\n",
    "fig3.legend.click_policy=\"hide\"\n",
    "\n",
    "fig = gridplot([fig1, fig2, fig3], ncols=1, plot_width=350, plot_height=300)\n",
    "show(fig)"
   ]
  },
  {
   "cell_type": "code",
   "execution_count": null,
   "id": "9266221d-8455-4220-83d6-50f6de8f4169",
   "metadata": {
    "tags": []
   },
   "outputs": [],
   "source": [
    "perm_recov = recovFitter(pp_start, pp_end, Time, perm, 'perm')\n",
    "\n",
    "permRecov = perm_recov[1][:,0]\n",
    "permRecov_r2 = perm_recov[1][:,2]"
   ]
  },
  {
   "cell_type": "code",
   "execution_count": null,
   "id": "441bd702-027f-41d2-bcf1-cc53a352a1f6",
   "metadata": {
    "tags": []
   },
   "outputs": [],
   "source": [
    "vel_recov0 = recovFitter(pp_start, pp_end, Time, vel0_detrend, 'vel0')"
   ]
  },
  {
   "cell_type": "code",
   "execution_count": null,
   "id": "0292ea57-1087-4a64-80f7-2df629426014",
   "metadata": {
    "tags": []
   },
   "outputs": [],
   "source": [
    "vel_recov1 = recovFitter(pp_start, pp_end, Time, vel1_detrend, 'vel1')"
   ]
  },
  {
   "cell_type": "code",
   "execution_count": null,
   "id": "f724d8d0-5ff2-4a4c-8a2d-6c41625fd15d",
   "metadata": {
    "tags": []
   },
   "outputs": [],
   "source": [
    "vel_recov2 = recovFitter(pp_start, pp_end, Time, vel2_detrend, 'vel2')"
   ]
  },
  {
   "cell_type": "code",
   "execution_count": null,
   "id": "22c8d703-36ec-4f37-ad2d-d81fb49566fc",
   "metadata": {
    "tags": []
   },
   "outputs": [],
   "source": [
    "vel_recov3 = recovFitter(pp_start, pp_end, Time, vel3_detrend, 'vel3')"
   ]
  },
  {
   "cell_type": "code",
   "execution_count": null,
   "id": "bdcaaf63-3c09-4ad2-bd52-683ee9ed1d23",
   "metadata": {
    "tags": []
   },
   "outputs": [],
   "source": [
    "vel_recov4 = recovFitter(pp_start, pp_end, Time, vel4_detrend, 'vel4')"
   ]
  },
  {
   "cell_type": "code",
   "execution_count": null,
   "id": "3e7111c4-5edf-4d73-944d-13b73cce0926",
   "metadata": {
    "tags": []
   },
   "outputs": [],
   "source": [
    "vel_recov5 = recovFitter(pp_start, pp_end, Time, vel5_detrend, 'vel5')"
   ]
  },
  {
   "cell_type": "code",
   "execution_count": null,
   "id": "9cb4af11-5ae4-45fb-9f54-200c00a9f7c5",
   "metadata": {
    "tags": []
   },
   "outputs": [],
   "source": [
    "vel_recov6 = recovFitter(pp_start, pp_end, Time, vel6_detrend, 'vel6')"
   ]
  },
  {
   "cell_type": "code",
   "execution_count": null,
   "id": "9da8e227-f697-4954-a2ef-0a3c693cad0e",
   "metadata": {
    "tags": []
   },
   "outputs": [],
   "source": [
    "vel_recov = np.array([vel_recov0[1][:,0], vel_recov1[1][:,0], vel_recov2[1][:,0], \n",
    "            vel_recov3[1][:,0], vel_recov4[1][:,0], vel_recov5[1][:,0], \n",
    "            vel_recov6[1][:,0]])\n",
    "\n",
    "vel_recov_r2 = np.array([vel_recov0[1][:,2], vel_recov1[1][:,2], vel_recov2[1][:,2], \n",
    "            vel_recov3[1][:,2], vel_recov4[1][:,2], vel_recov5[1][:,2], \n",
    "            vel_recov6[1][:,2]])"
   ]
  },
  {
   "cell_type": "code",
   "execution_count": null,
   "id": "06bfd8a5-0108-4b20-a46b-dd1fc287f4bd",
   "metadata": {
    "tags": []
   },
   "outputs": [],
   "source": [
    "rms_recov0 = recovFitter(pp_start, pp_end, Time, rmsAmp0_detrend, 'rms0')"
   ]
  },
  {
   "cell_type": "code",
   "execution_count": null,
   "id": "20184f36-08a5-482c-9f9c-9360d5f5d04f",
   "metadata": {
    "tags": []
   },
   "outputs": [],
   "source": [
    "rms_recov1 = recovFitter(pp_start, pp_end, Time, rmsAmp1_detrend, 'rms1')"
   ]
  },
  {
   "cell_type": "code",
   "execution_count": null,
   "id": "e34674f9-ba22-45d3-912d-af243559be32",
   "metadata": {
    "tags": []
   },
   "outputs": [],
   "source": [
    "rms_recov2 = recovFitter(pp_start, pp_end, Time, rmsAmp2_detrend, 'rms2')"
   ]
  },
  {
   "cell_type": "code",
   "execution_count": null,
   "id": "563c0bbd-3faa-4891-b6af-6386ec52fc83",
   "metadata": {
    "tags": []
   },
   "outputs": [],
   "source": [
    "rms_recov3 = recovFitter(pp_start, pp_end, Time, rmsAmp3_detrend, 'rms3')"
   ]
  },
  {
   "cell_type": "code",
   "execution_count": null,
   "id": "9924f6ec-5ba7-41e9-a9f1-dab8c2ec978a",
   "metadata": {
    "tags": []
   },
   "outputs": [],
   "source": [
    "rms_recov4 = recovFitter(pp_start, pp_end, Time, rmsAmp4_detrend, 'rms4')"
   ]
  },
  {
   "cell_type": "code",
   "execution_count": null,
   "id": "dde8d049-074e-48ee-a14c-1566687bd6bd",
   "metadata": {
    "tags": []
   },
   "outputs": [],
   "source": [
    "rms_recov5 = recovFitter(pp_start, pp_end, Time, rmsAmp5_detrend, 'rms5')"
   ]
  },
  {
   "cell_type": "code",
   "execution_count": null,
   "id": "3f69a169-baf0-4538-9aa1-3208ba2b89db",
   "metadata": {
    "tags": []
   },
   "outputs": [],
   "source": [
    "rms_recov6 = recovFitter(pp_start, pp_end, Time, rmsAmp6_detrend, 'rms6')"
   ]
  },
  {
   "cell_type": "code",
   "execution_count": null,
   "id": "0a16904d-1423-475e-bf7f-980e65f8b748",
   "metadata": {
    "tags": []
   },
   "outputs": [],
   "source": [
    "rms_recov = np.array([rms_recov0[1][:,0], rms_recov1[1][:,0], rms_recov2[1][:,0], \n",
    "            rms_recov3[1][:,0], rms_recov4[1][:,0], rms_recov5[1][:,0], \n",
    "            rms_recov6[1][:,0]])\n",
    "\n",
    "rms_recov_r2 = np.array([rms_recov0[1][:,2], rms_recov1[1][:,2], rms_recov2[1][:,2], \n",
    "            rms_recov3[1][:,2], rms_recov4[1][:,2], rms_recov5[1][:,2], \n",
    "            rms_recov6[1][:,2]])"
   ]
  },
  {
   "cell_type": "code",
   "execution_count": null,
   "id": "4ae89849-caca-4dff-85cd-a100b22805ec",
   "metadata": {
    "tags": []
   },
   "outputs": [],
   "source": [
    "# fig1 = figure(tools='pan,box_zoom,undo,hover,crosshair') \n",
    "# fig1.circle(pp_amps, perm_recov[1][:,0], size=8, fill_color='black', line_color=\"black\")\n",
    "# fig1.yaxis.axis_label = 'log perm recov'\n",
    "\n",
    "# fig2 = figure(x_range=fig1.x_range, tools='pan,box_zoom,undo,save,hover,crosshair')\n",
    "# fig2.circle(pp_amps, vel_recov2[1][:,0], size=8, fill_color='mediumblue', line_color=\"mediumblue\", legend_label='T2R2')\n",
    "# fig2.square(pp_amps, vel_recov4[1][:,0], size=8, fill_color='mediumblue', line_color=\"mediumblue\", legend_label='T4R4')\n",
    "# fig2.yaxis.axis_label = 'log vel recov'\n",
    "\n",
    "# fig3 = figure(x_range=fig1.x_range, tools='pan,box_zoom,undo,save,hover,crosshair')\n",
    "# fig3.circle(pp_amps, rms_recov2[1][:,0], size=8, fill_color='goldenrod', line_color=\"goldenrod\", legend_label='T2R2')\n",
    "# fig3.square(pp_amps, rms_recov4[1][:,0], size=8, fill_color='goldenrod', line_color=\"goldenrod\", legend_label='T4R4')\n",
    "# fig3.yaxis.axis_label = 'log vel recov'\n",
    "\n",
    "# fig3.xaxis.axis_label = 'PP osc. amp. (MPa)'\n",
    "\n",
    "# fig2.legend.click_policy=\"hide\"\n",
    "# fig3.legend.click_policy=\"hide\"\n",
    "\n",
    "# fig2 = gridplot([fig1, fig2, fig3], ncols=1, plot_width=350, plot_height=300)\n",
    "# show(fig2)"
   ]
  },
  {
   "cell_type": "code",
   "execution_count": null,
   "id": "5ea617f6-e79e-4572-81d0-5d88ac50c2dc",
   "metadata": {
    "tags": []
   },
   "outputs": [],
   "source": [
    "filename = runname+'_'+run+'_summary_dat'\n",
    "np.savez_compressed(filename, pp_amps = pp_amps, relPerm=relPerm, relVel=relVel, relRms=relRms, \n",
    "                    permRecov=permRecov, permRecov_r2 = permRecov_r2, \n",
    "                    vel_recov=vel_recov, vel_recov_r2=vel_recov_r2, rms_recov=rms_recov, rms_recov_r2=rms_recov_r2)"
   ]
  }
 ],
 "metadata": {
  "kernelspec": {
   "display_name": "Python 3",
   "language": "python",
   "name": "python3"
  },
  "language_info": {
   "codemirror_mode": {
    "name": "ipython",
    "version": 3
   },
   "file_extension": ".py",
   "mimetype": "text/x-python",
   "name": "python",
   "nbconvert_exporter": "python",
   "pygments_lexer": "ipython3",
   "version": "3.9.7"
  },
  "widgets": {
   "application/vnd.jupyter.widget-state+json": {
    "state": {},
    "version_major": 2,
    "version_minor": 0
   }
  }
 },
 "nbformat": 4,
 "nbformat_minor": 5
}
