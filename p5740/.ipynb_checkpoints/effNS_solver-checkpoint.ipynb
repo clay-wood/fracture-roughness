{
 "cells": [
  {
   "cell_type": "code",
   "execution_count": 1,
   "metadata": {},
   "outputs": [],
   "source": [
    "import numpy as np\n",
    "\n",
    "def solver(NS, Pc, effNS, delP):\n",
    "#     NS + (Pc * 0.32) - 0.5*(a-b)\n",
    "#     a - b\n",
    "    A = np.array([[-0.5, -0.5], [1, -1]])\n",
    "    inv_A = np.linalg.inv(A)\n",
    "    \n",
    "    B = np.array([(effNS - (NS + (Pc/3))), delP])\n",
    "    \n",
    "    X = np.linalg.inv(A).dot(B)\n",
    "    \n",
    "    print('Ppa = '+str(X[0]))\n",
    "    print('Ppb = '+str(X[1])+'\\n')  "
   ]
  },
  {
   "cell_type": "code",
   "execution_count": 3,
   "metadata": {},
   "outputs": [
    {
     "name": "stdout",
     "output_type": "stream",
     "text": [
      "Ppa = 2.6\n",
      "Ppb = 1.4\n",
      "\n"
     ]
    }
   ],
   "source": [
    "solver(NS = 9.25, Pc = 8.25, effNS = 10, delP = 1.2)"
   ]
  },
  {
   "cell_type": "code",
   "execution_count": 4,
   "metadata": {},
   "outputs": [
    {
     "name": "stdout",
     "output_type": "stream",
     "text": [
      "Ppa = 3.0\n",
      "Ppb = 1.0\n",
      "\n"
     ]
    }
   ],
   "source": [
    "solver(NS = 9.25, Pc = 8.25, effNS = 10, delP = 2)"
   ]
  },
  {
   "cell_type": "code",
   "execution_count": 16,
   "metadata": {},
   "outputs": [
    {
     "name": "stdout",
     "output_type": "stream",
     "text": [
      "Ppa = 4.083333333333334\n",
      "Ppb = 1.083333333333334\n",
      "\n"
     ]
    }
   ],
   "source": [
    "solver(NS = 10, Pc = 7.75, effNS = 10, delP = 3)"
   ]
  },
  {
   "cell_type": "code",
   "execution_count": 13,
   "metadata": {},
   "outputs": [
    {
     "name": "stdout",
     "output_type": "stream",
     "text": [
      "Ppa = 4.916666666666666\n",
      "Ppb = 0.9166666666666661\n",
      "\n"
     ]
    }
   ],
   "source": [
    "solver(NS = 10.5, Pc = 7.25, effNS = 10, delP = 4)"
   ]
  }
 ],
 "metadata": {
  "kernelspec": {
   "display_name": "Python 3",
   "language": "python",
   "name": "python3"
  },
  "language_info": {
   "codemirror_mode": {
    "name": "ipython",
    "version": 3
   },
   "file_extension": ".py",
   "mimetype": "text/x-python",
   "name": "python",
   "nbconvert_exporter": "python",
   "pygments_lexer": "ipython3",
   "version": "3.9.10"
  },
  "widgets": {
   "application/vnd.jupyter.widget-state+json": {
    "state": {},
    "version_major": 2,
    "version_minor": 0
   }
  }
 },
 "nbformat": 4,
 "nbformat_minor": 4
}
