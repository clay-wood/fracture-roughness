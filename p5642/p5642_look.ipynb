{
 "cells": [
  {
   "cell_type": "code",
   "execution_count": 1,
   "metadata": {},
   "outputs": [],
   "source": [
    "# lv2look version: 28.10.2016\n",
    "\n",
    "\n",
    "# Reading file p5642: 24-bit File has 316142604 bytes of data, 6079659 recs, 13 chans\n",
    "# First recs are:\n",
    "#         time, ch2, ch3, ch4, ch5, ch6, ch7, ch8, ch9, ch10, ch11, ch12, ch13\n",
    "#         10000, -304528, -9174341, 1543109, -829384, 2880318, -218052, 3959970, -141076, -3184650, -511290, 1862222, 2764253  \n",
    "\n",
    "# Experiment p5642               began at 9:28 AM  on 2/15/18 \n",
    "# n_chans = 13, nrecs = 6079659\n",
    "# Channel 2 (Vert DCDT   ) was recorded at +/- 10.0 volts\n",
    "# Channel 3 (Vert LOAD   ) was recorded at +/- 10.0 volts\n",
    "# Channel 4 (Hor DCDT    ) was recorded at +/- 10.0 volts\n",
    "# Channel 5 (Hor LOAD    ) was recorded at +/- 10.0 volts\n",
    "# Channel 6 (Pc Disp     ) was recorded at +/- 10.0 volts\n",
    "# Channel 7 (Pc LOAD     ) was recorded at +/- 10.0 volts\n",
    "# Channel 8 (Ppa Disp    ) was recorded at +/- 10.0 volts\n",
    "# Channel 9 (Ppa LOAD    ) was recorded at +/- 10.0 volts\n",
    "# Channel 10 (Ppb Disp    ) was recorded at +/- 10.0 volts\n",
    "# Channel 11 (Ppb LOAD    ) was recorded at +/- 10.0 volts\n",
    "# Channel 12 (Int DCDT    ) was recorded at +/- 10.0 volts\n",
    "# Channel 13 (Sync        ) was recorded at +/- 10.0 volts"
   ]
  },
  {
   "cell_type": "code",
   "execution_count": 2,
   "metadata": {},
   "outputs": [],
   "source": [
    "from pathlib import Path\n",
    "from pylook.units import units\n",
    "import pylook.calc as lc\n",
    "from pylook.io import read_binary\n",
    "import pylook_extra as lc2\n",
    "import pylook_plotting_v4 as pl\n",
    "import numpy as np\n",
    "import pandas as pd\n",
    "import h5py as h5\n",
    "import matplotlib.pyplot as plt\n",
    "import matplotlib as mpl"
   ]
  },
  {
   "cell_type": "code",
   "execution_count": 3,
   "metadata": {},
   "outputs": [],
   "source": [
    "data = lc2.readHDF(\"p5642_py.h5\")"
   ]
  },
  {
   "cell_type": "code",
   "execution_count": 4,
   "metadata": {},
   "outputs": [],
   "source": [
    "data['Time'] = np.cumsum(data['Time']/1e4)\n",
    "data['time'] = data.pop('Time')\n",
    "\n",
    "data['norm disp'] = data.pop('Hor DCDT')\n",
    "data['norm stress'] = data.pop('Hor LOAD')\n",
    "data['pc disp'] = data.pop('Pc Disp')\n",
    "data['pc press'] = data.pop('Pc LOAD')\n",
    "data['ppa disp'] = data.pop('Ppa Disp')\n",
    "data['ppa press'] = data.pop('Ppa LOAD')\n",
    "data['ppb press'] = data.pop('Ppb LOAD')\n",
    "data['ppb disp'] = data.pop('Ppb Disp')\n",
    "data['int disp'] = data.pop('Int DCDT')"
   ]
  },
  {
   "cell_type": "code",
   "execution_count": 5,
   "metadata": {},
   "outputs": [],
   "source": [
    "# CALIBRATIONS FOR DISPLACEMENTS AND STRESSES\n",
    "#---------------------------------------------------------------------------------------\n",
    "\n",
    "# HORIZONTAL DISPLACEMENT\n",
    "# high gain, short rod: 0.657956387503886 mm/V\n",
    "h_disp_calib = (20/2**24)  * 0.657956387503886 * 1000 #um/mm \n",
    "data['norm disp'] = data['norm disp'] * h_disp_calib\n",
    "\n",
    "# HORIZONTAL INTERNAL DISPLACEMENT\n",
    "# high gain: 0.415958632711548 mm/V\n",
    "Hint_disp_calib = (20/2**24)  * 0.415958632711548 * 1000 #um/mm \n",
    "data['int disp'] = data['int disp'] * Hint_disp_calib\n",
    "\n",
    "# HORIZONTAL LOAD\n",
    "# high gain: 129.9546436 mV/kN\n",
    "# 1 surface\n",
    "# area: 0.0022231311 m^2\n",
    "h_load_calib = 1 * 0.0022292545 * 129.9546436 * (2**24/20)\n",
    "data['norm stress'] = data['norm stress'] * 1/h_load_calib\n",
    "\n",
    "#---------------------------------------------------------------------------------------\n",
    "\n",
    "# Pc INTENSIFIER DISPLACEMNT\n",
    "# high gain: 29.49852507 mm/V \n",
    "# ((20/2**24) * units('V / bit')) * (29.499 * units('mm / V') * 1000 * units('micron / mm'))\n",
    "pc_disp_calib = (20/2**24) * 29.49852507 * 1000 #um/mm\n",
    "data['pc disp'] = data['pc disp'] * pc_disp_calib\n",
    "\n",
    "# Pc PRESSURE\n",
    "# high gain: 0.14556041 V/MPa\n",
    "pc_pres_calib = (20/2**24)  * 1/0.14556041\n",
    "data['pc press'] = data['pc press'] * pc_pres_calib\n",
    "\n",
    "#---------------------------------------------------------------------------------------\n",
    "                                                     \n",
    "# PpA INTENSIFIER DISPLACEMNT\n",
    "# high gain: 26.73796791 mm/V \n",
    "ppa_disp_calib = (20/2**24) * 26.73796791 * 1000 #um/mm\n",
    "data['ppa disp'] = data['ppa disp'] * ppa_disp_calib\n",
    "\n",
    "# PpA PRESSURE\n",
    "# high gain: 1.517680983 V/MPa\n",
    "ppa_pres_calib = (20/2**24) * 1/1.517680983\n",
    "data['ppa press'] = data['ppa press'] * ppa_pres_calib\n",
    "                               \n",
    "#---------------------------------------------------------------------------------------\n",
    "                                                      \n",
    "# PpB INTENSIFIER DISPLACEMNT\n",
    "# high gain: 26.88172043 mm/V \n",
    "ppb_disp_calib = (20/2**24) * 26.88172043 * 1000 #um/mm\n",
    "data['ppb disp'] = data['ppb disp'] * ppb_disp_calib\n",
    "\n",
    "# PpB PRESSURE\n",
    "# high gain: 1.48 V/MPa\n",
    "ppb_pres_calib = (20/2**24) * 1/1.483019428\n",
    "data['ppb press'] = data['ppb press'] * ppb_pres_calib\n",
    "                                                      \n",
    "#---------------------------------------------------------------------------------------                                                      "
   ]
  },
  {
   "cell_type": "code",
   "execution_count": 6,
   "metadata": {},
   "outputs": [],
   "source": [
    "runIdx = np.array([[12628, 94656], [109698, 933488], [937136, 1767281], [1769866, 2595911], [2601829, 3430670], [3432536, 4260365], [4316360, 5151646], [5237858, 6073430]])"
   ]
  },
  {
   "cell_type": "code",
   "execution_count": 7,
   "metadata": {},
   "outputs": [],
   "source": [
    "# OFFSETS AND ZERO POINTS\n",
    "\n",
    "# HOR DISP\n",
    "data['norm disp'] = lc.zero(data['norm disp'], 2296, mode='before')\n",
    "\n",
    "# INT HOR DISP\n",
    "data['int disp'] = -1 * lc.zero(data['int disp'], 2303, mode='before')\n",
    "# data['int disp'] = lc.remove_offset(data['int disp'], 1958, 1964, set_between=True)\n",
    "\n",
    "# HOR LOAD\n",
    "data['norm stress'] = lc.zero(data['norm stress'], 2303, mode='before')\n",
    "\n",
    "# PC DISP\n",
    "data['pc disp'] = lc.zero(data['pc disp'], 2581, mode='before')\n",
    "\n",
    "# PC LOAD\n",
    "data['pc press'] = lc.zero(data['pc press'], 2582, mode='before')\n",
    "\n",
    "# Ppa LOAD\n",
    "data['ppa press'] = lc.zero(data['ppa press'], 4476, mode='before')\n",
    "\n",
    "# Ppb LOAD\n",
    "data['ppb press'] = lc.zero(data['ppb press'], 4410, mode='before')\n"
   ]
  },
  {
   "cell_type": "code",
   "execution_count": 8,
   "metadata": {},
   "outputs": [],
   "source": [
    "# %matplotlib widget\n",
    "# pl('int disp', 'ppb press')"
   ]
  },
  {
   "cell_type": "code",
   "execution_count": 9,
   "metadata": {},
   "outputs": [],
   "source": [
    "##################################################################################\n",
    "# cjm & cew; updated for True Triax config. 20181031                             #\n",
    "#                                                                                #\n",
    "#                                                                                #\n",
    "#   In the vessel for SDS with notched L-shaped samples:                         #\n",
    "#               Shear Stress is given by: tau = (FVp - Pc*Ap)/A                  #\n",
    "#               Normal stress is given by: sigma_n = (FHp + Pc(A-Ap))/A          #\n",
    "#                    or, sigma_n = FHp/A + Pc(A-Ap)/A                            #\n",
    "#  where:                                                                        #\n",
    "#  FVp is vertical force applied by the piston                                   #\n",
    "#  FHp is horizontal force applied by the piston                                 #\n",
    "#  A is the smaller area of the L-shaped samples                                 #\n",
    "#   note that the frictional contact area will be given by the block thickness.  #\n",
    "#  The eventual fracture plane will be given by the distance between the notches #\n",
    "#  Ap is the area of the piston                                                  #\n",
    "#  Pc is the confining pressure                                                  #\n",
    "#                                                                                #\n",
    "##################################################################################\n",
    "\n",
    "\n",
    "# Account for Pc Force pushing on pistons\n",
    "# Horizontal Area = 0.0022292545 m^2\n",
    "A = 0.0022231311\n",
    "#adjust normal stress for Pc.\n",
    "#Area of piston, Ap = 44mm (dia) =  0.00152053084 m^2\n",
    "Ap = 0.044 * np.pi\n",
    "Pc_area = 100 - (Ap-A)/A\n",
    "# ~ 32% of Pc is added to the applied horizontal stress to get the effective stress\n",
    "\n",
    "# Calculate Effective Stresses\n",
    "data['effNS'] = data['norm stress'] + (data['pc press'] * Pc_area/100) - (data['ppa press'] + data['ppb press'])/2"
   ]
  },
  {
   "cell_type": "code",
   "execution_count": 10,
   "metadata": {},
   "outputs": [],
   "source": [
    "data['ppb press filt'] = lc2.butter_filter(data['ppb press'], 5, 1000, 3, 'low')\n",
    "data['ppa press filt'] = lc2.butter_filter(data['ppa press'], 5, 1000, 3, 'low')\n",
    "\n",
    "\n",
    "data['ppb disp filt'] = lc2.butter_filter(data['ppb disp'], 2, 1000, 3, 'low')\n",
    "data['ppa disp filt'] = lc2.butter_filter(data['ppa disp'], 2, 1000, 3, 'low')\n",
    "\n",
    "###############################################################################\n",
    "# VOLUMETRIC FLOW                                                             #\n",
    "# first, calculate displacement rate of the pistons with running avg. slope   #\n",
    "# then, multiply by inner diameter of intensifiers for volumetric rate        #\n",
    "###############################################################################\n",
    "\n",
    "# sampfreq = 1000;\n",
    "\n",
    "# idxfs100only = np.where(np.logical_and(sampfreq > 90, sampfreq < 110))\n",
    "\n",
    "# data['PpDiff'][idxfs100only];\n",
    "\n",
    "###############################################################################\n",
    "\n",
    "# calculate Pressure differential & convert from [MPa] --> [Pa]\n",
    "data['PpDiff'] = (data['ppb press'] - data['ppa press']) * 1e6 #Pa\n",
    "data['PpDiff filt'] = (data['ppb press filt'] - data['ppa press filt']) * 1e6 #Pa\n",
    "\n",
    "data['mmPpDiff'] = lc2.movingmean(data['PpDiff'],1001)\n",
    "data['mmPpDiff filt'] = lc2.movingmean(data['PpDiff filt'],1001)\n",
    "\n",
    "# INTENSIFIER DISPLACEMENT RATES\n",
    "data['AvPparate'] = lc2.movingslope(-1*data['ppa disp'], 1001)\n",
    "data['AvPpbrate'] = lc2.movingslope(-1*data['ppb disp'], 1001)\n",
    "data['AvPparate filt'] = lc2.movingslope(-1*data['ppa disp filt'], 1001)\n",
    "data['AvPpbrate filt'] = lc2.movingslope(-1*data['ppb disp filt'], 1001)\n",
    "\n",
    "# INTENSIFIER VOLUME\n",
    "piston_dia = 0.0254 #meter\n",
    "Vol_int = np.pi*(piston_dia/2)**2 #m^2\n",
    "\n",
    "# FLOW RATES\n",
    "data['Qa'] = -1 * data['AvPparate']/1e6 * Vol_int #m^3/s\n",
    "data['Qb'] = data['AvPpbrate']/1e6 * Vol_int #m^3/s\n",
    "data['Qa filt'] = -1 * data['AvPparate filt']/1e6 * Vol_int #m^3/s\n",
    "data['Qb filt'] = data['AvPpbrate filt']/1e6 * Vol_int #m^3/s\n",
    "\n",
    "#flow in this exp is from to A to B\n",
    "#check to make sure we have steady-state flow -- percent difference \n",
    "data['QpctDiff'] = (data['Qa'] - data['Qb']) / data['Qa'] * 100 #percent\n",
    "data['QpctDiff filt'] = (data['Qa filt'] - data['Qb filt']) / data['Qa filt'] * 100 #percent\n",
    "\n",
    "#calculate an average flow rate from upsteam and downstream\n",
    "data['Qavg'] = (data['Qa'] + data['Qb'])/2 #m^3/s\n",
    "data['Qavg filt'] = (data['Qa filt'] + data['Qb filt'])/2 #m^3/s\n",
    "\n",
    "# Fracture plane length x thickness 45 x 23.43 = 0.00105435 m^2\n",
    "A_flow = 0.045 * 0.02343 #m^2\n",
    "\n",
    "# flow length is 0.04976 m\n",
    "L_flow = 0.04976 #meter\n",
    "\n",
    "#viscosity of water at 25 deg. C = 1e-3 Pa.s\n",
    "nu = 1e-3 #Pa.s\n",
    "\n",
    "# permeability calculation [m^2]\n",
    "data['perm'] = (data['Qavg'] * nu * L_flow)/(data['mmPpDiff'] * A_flow) #[m^2]\n",
    "data['perm filt'] = (data['Qavg filt'] * nu * L_flow)/(data['mmPpDiff filt'] * A_flow) #[m^2]"
   ]
  },
  {
   "cell_type": "code",
   "execution_count": 11,
   "metadata": {},
   "outputs": [],
   "source": [
    "# %matplotlib widget\n",
    "# pl.plotfr(data, \"time\", \"ppa disp\", Fs = 1000, idx1=0, idx2=-1)"
   ]
  },
  {
   "cell_type": "code",
   "execution_count": 12,
   "metadata": {},
   "outputs": [
    {
     "data": {
      "application/vnd.jupyter.widget-view+json": {
       "model_id": "e80058b0188e4904a2d2a6cf2163d651",
       "version_major": 2,
       "version_minor": 0
      },
      "image/png": "[encoded data removed]",
      "text/plain": [
       "Canvas(toolbar=Toolbar(toolitems=[('Home', 'Reset original view', 'home', 'home'), ('Back', 'Back to previous …"
      ]
     },
     "metadata": {},
     "output_type": "display_data"
    }
   ],
   "source": [
    "%matplotlib widget\n",
    "pl.plotter(data, x=\"time\", y='QpctDiff', y2='QpctDiff filt', y2log=False, idx1=109743, idx2=933443, dec=2, plot_type=\"sharey\")"
   ]
  },
  {
   "cell_type": "code",
   "execution_count": 13,
   "metadata": {},
   "outputs": [],
   "source": [
    "# %matplotlib widget\n",
    "# pl.plotter(data, x=\"time\", y='norm stress', y2='perm', y2log=False, idx1=109743, idx2=933443, plot_type=\"sub2\")"
   ]
  },
  {
   "cell_type": "code",
   "execution_count": 14,
   "metadata": {},
   "outputs": [],
   "source": [
    "# %matplotlib widget\n",
    "# pl.plotter(data, \"time\", 'norm stress', 'perm', y2log=False, idx1=0, idx2=-1, plot_type=\"sub2\")"
   ]
  },
  {
   "cell_type": "code",
   "execution_count": 15,
   "metadata": {},
   "outputs": [],
   "source": [
    "# fig, axs = plt.subplots(1, 1, figsize=(12, 5))\n",
    "# axs.plot(-1*data['Qa'], color='r')\n",
    "# axs.plot(data['Qb_filt'], color='b')\n",
    "# # axs.set_xscale('log')\n",
    "# # axs.set_yscale('log')\n",
    "# plt.show()"
   ]
  },
  {
   "cell_type": "code",
   "execution_count": 16,
   "metadata": {},
   "outputs": [],
   "source": [
    "max_flow_diff_percent = 10\n",
    "min_flow = 0e-12; # in m^3/s. Minimum flow\n",
    "\n",
    "flow_diff_idxs = data['QpctDiff'].abs().to_numpy() > max_flow_diff_percent\n",
    "flow_diff_idxs_filt = data['QpctDiff filt'].abs().to_numpy() > max_flow_diff_percent\n",
    "min_flow_idxs = np.logical_or(data['Qa'].to_numpy() <= min_flow, data['Qb'].to_numpy() <= min_flow)\n",
    "\n",
    "data['perm'].to_numpy()[flow_diff_idxs] = np.nan\n",
    "data['perm filt'].to_numpy()[flow_diff_idxs_filt] = np.nan\n",
    "# data['perm'].to_numpy()[min_flow_idxs] = np.nan"
   ]
  },
  {
   "cell_type": "code",
   "execution_count": 17,
   "metadata": {},
   "outputs": [],
   "source": [
    "# %matplotlib widget\n",
    "# fig, axs = plt.subplots(4, 1, figsize=(12, 10), dpi=100, sharex=True)\n",
    "# axs[0].plot(data['time'][12000:-5000:10]/60, data['effNS'][12000:-5000:10], color='k', lw=1.5)\n",
    "# axs[0].set_ylabel('$\\sigma_{eff}$ (MPa)')\n",
    "\n",
    "# axs[1].plot(data['time'][12000:-5000:10]/60, data['PpDiff'][12000:-5000:10]*1e-6, color='darkorange', lw=1.5)\n",
    "# axs[1].set_ylabel('$\\Delta P$ (MPa)')\n",
    "\n",
    "# # axs[2].plot(data['time'][12000:-5000:10]/60, data['Qa'][12000:-5000:10], color='r', lw=2, label='outlet')\n",
    "# # axs[2].plot(data['time'][12000:-5000:10]/60, data['Qb'][12000:-5000:10], color='b', lw=2, label='inlet')\n",
    "# axs[2].plot(data['time'][12000:-5000:10]/60, data['int disp'][12000:-5000:10], color='darkgreen', lw=1.5)\n",
    "# # axs[2].set_yscale('log')\n",
    "# # axs[1].set_ylim([-0.0047, 0.01])\n",
    "# # axs[2].set_ylabel('Flow Rate ($m^3/s$)')\n",
    "# # axs[2].legend()\n",
    "# axs[2].set_ylabel('Int. Disp. ($\\mu m$)')\n",
    "\n",
    "# axs[3].scatter(data['time'][12000:-5000:10]/60, data['perm'][12000:-5000:10]*1e18, c='darkblue', s=3)\n",
    "# axs[3].set_ylim(2, 15)\n",
    "# # axs[2].set_xlim([69.8, 77.5])\n",
    "# # axs[3].set_yscale('log')\n",
    "# axs[3].set_ylabel('Perm. $\\cdot 10^{-18}$ ($m^2$)')\n",
    "# axs[3].set_xlabel('Time (min)')\n",
    "# plt.show()"
   ]
  },
  {
   "cell_type": "code",
   "execution_count": 18,
   "metadata": {},
   "outputs": [],
   "source": [
    "runIdx[:,0]+=1000 \n",
    "runIdx[:,1]-=1000 "
   ]
  },
  {
   "cell_type": "code",
   "execution_count": 19,
   "metadata": {},
   "outputs": [],
   "source": [
    "# %matplotlib inline\n",
    "# for aa in range(len(runIdx)):\n",
    "#     fig, axs = plt.subplots(4, 1, figsize=(12, 10), dpi=200, sharex=True)\n",
    "#     axs[0].plot(data['time'][runIdx[aa,0]:runIdx[aa,1]]/60, data['effNS'][runIdx[aa,0]:runIdx[aa,1]], color='k', lw=1.5)\n",
    "#     axs[0].set_ylabel('$\\sigma_{eff}$ (MPa)')\n",
    "\n",
    "#     axs[1].plot(data['time'][runIdx[aa,0]:runIdx[aa,1]]/60, data['PpDiff'][runIdx[aa,0]:runIdx[aa,1]]*1e-6, color='darkorange', lw=1.5)\n",
    "#     axs[1].set_ylabel('$\\Delta P$ (MPa)')\n",
    "\n",
    "#     # axs[2].plot(data['time'][runIdx[aa,0]:runIdx[aa,1]]/60, data['Qa'][runIdx[aa,0]:runIdx[aa,1]], color='r', lw=2, label='outlet')\n",
    "#     # axs[2].plot(data['time'][runIdx[aa,0]:runIdx[aa,1]]/60, data['Qb'][runIdx[aa,0]:runIdx[aa,1]], color='b', lw=2, label='inlet')\n",
    "#     axs[2].plot(data['time'][runIdx[aa,0]:runIdx[aa,1]]/60, data['int disp'][runIdx[aa,0]:runIdx[aa,1]], color='darkgreen', lw=1.5)\n",
    "#     # axs[2].set_yscale('log')\n",
    "#     # axs[1].set_ylim([-0.0047, 0.01])\n",
    "#     # axs[2].set_ylabel('Flow Rate ($m^3/s$)')\n",
    "#     # axs[2].legend()\n",
    "#     axs[2].set_ylabel('Int. Disp. ($\\mu m$)')\n",
    "\n",
    "#     axs[3].scatter(data['time'][runIdx[aa,0]:runIdx[aa,1]]/60, data['perm'][runIdx[aa,0]:runIdx[aa,1]]*1e18, c='darkblue', s=3)\n",
    "#     # axs[2].set_xlim([69.8, 77.5])\n",
    "#     # axs[3].set_yscale('log')\n",
    "#     axs[3].set_ylabel('Perm. $\\cdot 10^{-18}$ ($m^2$)')\n",
    "#     axs[3].set_xlabel('Time (min)')\n",
    "#     plt.show()\n",
    "#     fig.savefig('p5642_run'+str(aa)+'.png')"
   ]
  },
  {
   "cell_type": "code",
   "execution_count": 20,
   "metadata": {},
   "outputs": [],
   "source": [
    "data.drop(['Vert DCDT', 'Vert LOAD', 'PpDiff','mmPpDiff','AvPparate','AvPpbrate','QpctDiff','Qavg','QpctDiff filt', 'Qavg filt', 'PpDiff filt', 'mmPpDiff filt', 'AvPparate filt', 'AvPpbrate filt'], axis=1, inplace=True)"
   ]
  },
  {
   "cell_type": "code",
   "execution_count": 21,
   "metadata": {},
   "outputs": [],
   "source": [
    "with h5.File(\"p5642_r.hdf5\", \"w\") as f:\n",
    "    for chanName in data.keys():\n",
    "        f.create_dataset(chanName, data=data[chanName])"
   ]
  }
 ],
 "metadata": {
  "kernelspec": {
   "display_name": "Python 3.9.10 64-bit",
   "language": "python",
   "name": "python3"
  },
  "language_info": {
   "codemirror_mode": {
    "name": "ipython",
    "version": 3
   },
   "file_extension": ".py",
   "mimetype": "text/x-python",
   "name": "python",
   "nbconvert_exporter": "python",
   "pygments_lexer": "ipython3",
   "version": "3.9.10"
  },
  "toc-autonumbering": true,
  "toc-showcode": true,
  "toc-showmarkdowntxt": true,
  "toc-showtags": false,
  "vscode": {
   "interpreter": {
    "hash": "aee8b7b246df8f9039afb4144a1f6fd8d2ca17a180786b69acc140d282b71a49"
   }
  }
 },
 "nbformat": 4,
 "nbformat_minor": 4
}
