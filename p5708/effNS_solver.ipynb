{
 "cells": [
  {
   "cell_type": "code",
   "execution_count": 2,
   "metadata": {},
   "outputs": [],
   "source": [
    "import numpy as np\n",
    "\n",
    "def solver(NS, Pc, effNS, delP):\n",
    "#     NS + (Pc * 0.32) - 0.5*(a-b)\n",
    "#     a - b\n",
    "    A = np.array([[-0.5, -0.5], [1, -1]])\n",
    "    inv_A = np.linalg.inv(A)\n",
    "    \n",
    "    B = np.array([(effNS - (NS + (Pc/3))), delP])\n",
    "    \n",
    "    X = np.linalg.inv(A).dot(B)\n",
    "    \n",
    "    print('Ppa = '+str(X[0]))\n",
    "    print('Ppb = '+str(X[1])+'\\n')  "
   ]
  },
  {
   "cell_type": "code",
   "execution_count": 3,
   "metadata": {},
   "outputs": [
    {
     "name": "stdout",
     "output_type": "stream",
     "text": [
      "Ppa = 2.6\n",
      "Ppb = 1.4\n",
      "\n"
     ]
    }
   ],
   "source": [
    "solver(NS = 9.25, Pc = 8.25, effNS = 10, delP = 1.2)"
   ]
  },
  {
   "cell_type": "code",
   "execution_count": 4,
   "metadata": {},
   "outputs": [
    {
     "name": "stdout",
     "output_type": "stream",
     "text": [
      "Ppa = 2.6\n",
      "Ppb = 1.4\n",
      "\n"
     ]
    }
   ],
   "source": [
    "solver(NS = 11, Pc = 10.5, effNS = 12.5, delP = 1.2)"
   ]
  },
  {
   "cell_type": "code",
   "execution_count": 5,
   "metadata": {},
   "outputs": [
    {
     "name": "stdout",
     "output_type": "stream",
     "text": [
      "Ppa = 2.6\n",
      "Ppb = 1.4\n",
      "\n"
     ]
    }
   ],
   "source": [
    "solver(NS = 13, Pc = 12, effNS = 15, delP = 1.2)"
   ]
  },
  {
   "cell_type": "code",
   "execution_count": 6,
   "metadata": {},
   "outputs": [
    {
     "name": "stdout",
     "output_type": "stream",
     "text": [
      "Ppa = 2.6\n",
      "Ppb = 1.4\n",
      "\n"
     ]
    }
   ],
   "source": [
    "solver(NS = 15, Pc = 13.5, effNS = 17.5, delP = 1.2)"
   ]
  },
  {
   "cell_type": "code",
   "execution_count": 7,
   "metadata": {},
   "outputs": [
    {
     "name": "stdout",
     "output_type": "stream",
     "text": [
      "Ppa = 2.6\n",
      "Ppb = 1.4\n",
      "\n"
     ]
    }
   ],
   "source": [
    "solver(NS = 18, Pc = 12, effNS = 20, delP = 1.2)"
   ]
  },
  {
   "cell_type": "code",
   "execution_count": 8,
   "metadata": {},
   "outputs": [],
   "source": [
    "# a = list(map(lambda x: solver(20,6,20,x), [1.2]))"
   ]
  }
 ],
 "metadata": {
  "kernelspec": {
   "display_name": "Python 3",
   "language": "python",
   "name": "python3"
  },
  "language_info": {
   "codemirror_mode": {
    "name": "ipython",
    "version": 3
   },
   "file_extension": ".py",
   "mimetype": "text/x-python",
   "name": "python",
   "nbconvert_exporter": "python",
   "pygments_lexer": "ipython3",
   "version": "3.9.9"
  }
 },
 "nbformat": 4,
 "nbformat_minor": 4
}
