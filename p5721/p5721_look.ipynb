{
 "cells": [
  {
   "cell_type": "code",
   "execution_count": 1,
   "metadata": {},
   "outputs": [],
   "source": [
    "from pathlib import Path\n",
    "from pylook.units import units\n",
    "import pylook.calc as lc\n",
    "from pylook.io import read_binary\n",
    "import numpy as np\n",
    "import pandas as pd\n",
    "import h5py as h5\n",
    "import matplotlib.pyplot as plt\n",
    "import matplotlib as mpl"
   ]
  },
  {
   "cell_type": "code",
   "execution_count": 2,
   "metadata": {},
   "outputs": [],
   "source": [
    "def read_hdf(fileName):\n",
    "    data = pd.DataFrame()\n",
    "    for chanName in h5.File(fileName, \"r\")['mechData'].keys():\n",
    "        data[chanName] = h5.File(fileName, \"r\")['mechData'][chanName]\n",
    "    return data"
   ]
  },
  {
   "cell_type": "code",
   "execution_count": 3,
   "metadata": {},
   "outputs": [],
   "source": [
    "def pl(y, y2=None, idx1=0, idx2=-1, ylog=False, y2log=False):\n",
    "    %matplotlib widget\n",
    "    fig, axs = plt.subplots(1, 1, figsize=(12, 5), sharex=True)\n",
    "    axs.plot(data[y][idx1:idx2], color='blue')\n",
    "    if ylog == True:\n",
    "        axs.set_yscale('log')\n",
    "    plt.show()\n",
    "\n",
    "    if y2 != None:\n",
    "        %matplotlib widget\n",
    "        fig, axs = plt.subplots(2, 1, figsize=(12, 10), sharex=True)\n",
    "        axs[0].plot(data[y][idx1:idx2], color='blue')\n",
    "        axs[1].plot(data[y2][idx1:idx2], color='red')\n",
    "        if ylog == True:\n",
    "            axs[0].set_yscale('log')\n",
    "        if y2log == True:\n",
    "            axs[1].set_yscale('log')\n",
    "        \n",
    "        plt.show()"
   ]
  },
  {
   "cell_type": "code",
   "execution_count": 4,
   "metadata": {},
   "outputs": [],
   "source": [
    "data = read_hdf(\"p5721_py.h5\")"
   ]
  },
  {
   "cell_type": "code",
   "execution_count": 5,
   "metadata": {},
   "outputs": [],
   "source": [
    "data['Time'] = np.cumsum(data['Time']/1e4)\n",
    "data['time'] = data.pop('Time')\n",
    "\n",
    "data['norm disp'] = data.pop('Hor DCDT')\n",
    "data['norm stress'] = data.pop('Hor LOAD')\n",
    "data['pc disp'] = data.pop('Pc Disp')\n",
    "data['pc press'] = data.pop('Pc LOAD')\n",
    "data['ppa disp'] = data.pop('Ppa Disp')\n",
    "data['ppa press'] = data.pop('Ppa LOAD')\n",
    "data['ppb press'] = data.pop('Ppb LOAD')\n",
    "data['ppb disp'] = data.pop('Ppb Disp')\n",
    "data['int disp'] = data.pop('Int DCDT')"
   ]
  },
  {
   "cell_type": "code",
   "execution_count": 6,
   "metadata": {},
   "outputs": [],
   "source": [
    "# CALIBRATIONS FOR DISPLACEMENTS AND STRESSES\n",
    "#---------------------------------------------------------------------------------------\n",
    "\n",
    "# HORIZONTAL DISPLACEMENT\n",
    "# high gain, short rod: 0.657956387503886 mm/V\n",
    "h_disp_calib = (20/2**24)  * 0.657956387503886 * 1000 #um/mm \n",
    "data['norm disp'] = data['norm disp'] * h_disp_calib\n",
    "\n",
    "# HORIZONTAL INTERNAL DISPLACEMENT\n",
    "# high gain: 0.415958632711548 mm/V\n",
    "Hint_disp_calib = (20/2**24)  * 0.415958632711548 * 1000 #um/mm \n",
    "data['int disp'] = data['int disp'] * Hint_disp_calib\n",
    "\n",
    "# HORIZONTAL LOAD\n",
    "# high gain: 129.9546436 mV/kN\n",
    "# 1 surface\n",
    "# area: 0.0022231311 m^2\n",
    "h_load_calib = 1 * 0.0022292545 * 129.9546436 * (2**24/20)\n",
    "data['norm stress'] = data['norm stress'] * 1/h_load_calib\n",
    "\n",
    "#---------------------------------------------------------------------------------------\n",
    "\n",
    "# Pc INTENSIFIER DISPLACEMNT\n",
    "# high gain: 29.49852507 mm/V \n",
    "# ((20/2**24) * units('V / bit')) * (29.499 * units('mm / V') * 1000 * units('micron / mm'))\n",
    "pc_disp_calib = (20/2**24) * 29.49852507 * 1000 #um/mm\n",
    "data['pc disp'] = data['pc disp'] * pc_disp_calib\n",
    "\n",
    "# Pc PRESSURE\n",
    "# high gain: 0.14556041 V/MPa\n",
    "pc_pres_calib = (20/2**24)  * 1/0.14556041\n",
    "data['pc press'] = data['pc press'] * pc_pres_calib\n",
    "\n",
    "#---------------------------------------------------------------------------------------\n",
    "                                                     \n",
    "# PpA INTENSIFIER DISPLACEMNT\n",
    "# high gain: 26.73796791 mm/V \n",
    "ppa_disp_calib = (20/2**24) * 26.73796791 * 1000 #um/mm\n",
    "data['ppa disp'] = data['ppa disp'] * ppa_disp_calib\n",
    "\n",
    "# PpA PRESSURE\n",
    "# high gain: 1.517680983 V/MPa\n",
    "ppa_pres_calib = (20/2**24) * 1/1.517680983\n",
    "data['ppa press'] = data['ppa press'] * ppa_pres_calib\n",
    "                               \n",
    "#---------------------------------------------------------------------------------------\n",
    "                                                      \n",
    "# PpB INTENSIFIER DISPLACEMNT\n",
    "# high gain: 26.88172043 mm/V \n",
    "ppb_disp_calib = (20/2**24) * 26.88172043 * 1000 #um/mm\n",
    "data['ppb disp'] = data['ppb disp'] * ppb_disp_calib\n",
    "\n",
    "# PpB PRESSURE\n",
    "# high gain: 1.48 V/MPa\n",
    "ppb_pres_calib = (20/2**24) * 1/1.483019428\n",
    "data['ppb press'] = data['ppb press'] * ppb_pres_calib\n",
    "                                                      \n",
    "#---------------------------------------------------------------------------------------                                                      "
   ]
  },
  {
   "cell_type": "code",
   "execution_count": 7,
   "metadata": {},
   "outputs": [],
   "source": [
    "# pl('ppa press', 'ppb press', 0, 100000)"
   ]
  },
  {
   "cell_type": "code",
   "execution_count": 8,
   "metadata": {},
   "outputs": [],
   "source": [
    "# OFFSETS AND ZERO POINTS\n",
    "\n",
    "# HOR DISP\n",
    "data['norm disp'] = lc.zero(data['norm disp'], 384, mode='before')\n",
    "\n",
    "# INT HOR DISP\n",
    "data['int disp'] = lc.zero(data['int disp'], 384, mode='before')\n",
    "\n",
    "# HOR LOAD\n",
    "data['norm stress'] = lc.zero(data['norm stress'], 384, mode='before')\n",
    "\n",
    "# PC DISP\n",
    "data['pc disp'] = lc.zero(data['pc disp'], 837, mode='before')\n",
    "\n",
    "# PC LOAD\n",
    "data['pc press'] = lc.zero(data['pc press'], 837, mode='before')\n",
    "\n",
    "# Ppa LOAD\n",
    "data['ppa press'] = lc.zero(data['ppa press'], 997, mode='before')\n",
    "data['ppa disp'] = lc.zero(data['ppa disp'], 997, mode='before')\n",
    "\n",
    "# Ppb LOAD\n",
    "data['ppb press'] = lc.zero(data['ppb press'], 1640, mode='before')\n",
    "data['ppb disp'] = lc.zero(data['ppb disp'], 1640, mode='before')\n",
    "\n",
    "\n"
   ]
  },
  {
   "cell_type": "code",
   "execution_count": 9,
   "metadata": {},
   "outputs": [],
   "source": [
    "# pl('ppa press', 'ppb press', 0, -1)"
   ]
  },
  {
   "cell_type": "code",
   "execution_count": 10,
   "metadata": {},
   "outputs": [],
   "source": [
    "##################################################################################\n",
    "# cjm & cew; updated for True Triax config. 20181031                             #\n",
    "#                                                                                #\n",
    "#                                                                                #\n",
    "#   In the vessel for SDS with notched L-shaped samples:                         #\n",
    "#               Shear Stress is given by: tau = (FVp - Pc*Ap)/A                  #\n",
    "#               Normal stress is given by: sigma_n = (FHp + Pc(A-Ap))/A          #\n",
    "#                    or, sigma_n = FHp/A + Pc(A-Ap)/A                            #\n",
    "#  where:                                                                        #\n",
    "#  FVp is vertical force applied by the piston                                   #\n",
    "#  FHp is horizontal force applied by the piston                                 #\n",
    "#  A is the smaller area of the L-shaped samples                                 #\n",
    "#   note that the frictional contact area will be given by the block thickness.  #\n",
    "#  The eventual fracture plane will be given by the distance between the notches #\n",
    "#  Ap is the area of the piston                                                  #\n",
    "#  Pc is the confining pressure                                                  #\n",
    "#                                                                                #\n",
    "##################################################################################\n",
    "\n",
    "\n",
    "# Account for Pc Force pushing on pistons\n",
    "# Horizontal Area = 0.0022292545 m^2\n",
    "A = 0.0022231311\n",
    "#adjust normal stress for Pc.\n",
    "#Area of piston, Ap = 44mm (dia) =  0.00152053084 m^2\n",
    "Ap = 0.044 * np.pi\n",
    "Pc_area = 100 - (Ap-A)/A\n",
    "# ~ 32% of Pc is added to the applied horizontal stress to get the effective stress\n",
    "\n",
    "# Calculate Effective Stresses\n",
    "data['effNS'] = data['norm stress'] + (data['pc press'] * Pc_area/100) - (data['ppa press'] + data['ppb press'])/2"
   ]
  },
  {
   "cell_type": "code",
   "execution_count": 11,
   "metadata": {},
   "outputs": [],
   "source": [
    "from perm_funcs import movingslope, movingmean\n",
    "\n",
    "###############################################################################\n",
    "# VOLUMETRIC FLOW                                                             #\n",
    "# first, calculate displacement rate of the pistons with running avg. slope   #\n",
    "# then, multiply by inner diameter of intensifiers for volumetric rate        #\n",
    "###############################################################################\n",
    "\n",
    "# sampfreq = 1000;\n",
    "\n",
    "# idxfs100only = np.where(np.logical_and(sampfreq > 90, sampfreq < 110))\n",
    "\n",
    "# data['PpDiff'][idxfs100only];\n",
    "\n",
    "###############################################################################\n",
    "\n",
    "# calculate Pressure differential & convert from [MPa] --> [Pa]\n",
    "data['PpDiff'] = (data['ppb press'] - data['ppa press']) * 1e6 #Pa\n",
    "\n",
    "data['mmPpDiff'] = movingmean(data['PpDiff'],101);\n",
    "\n",
    "# INTENSIFIER DISPLACEMENT RATES\n",
    "data['AvPparate'] = movingslope(data['ppa disp'], 101)\n",
    "data['AvPpbrate'] = movingslope(data['ppb disp'], 101)\n",
    "\n",
    "# INTENSIFIER VOLUME\n",
    "piston_dia = 0.0254 #meter\n",
    "Vol_int = np.pi*(piston_dia/2)**2 #m^2\n",
    "\n",
    "# FLOW RATES\n",
    "data['Qa'] = data['AvPparate']/1e6 * Vol_int #m^3/s\n",
    "data['Qb'] = -1*data['AvPpbrate']/1e6 * Vol_int #m^3/s\n",
    "\n",
    "#flow in this exp is from to B to A\n",
    "#check to make sure we have steady-state flow -- percent difference \n",
    "data['QpctDiff'] = (data['Qb'] - data['Qa']) / data['Qb'] * 100 #percent\n",
    "\n",
    "#calculate an average flow rate from upsteam and downstream\n",
    "data['Qavg'] = (data['Qa'] + data['Qb'])/2 #m^3/s\n",
    "\n",
    "# Fracture plane length x thickness 45 x 23.43 = 0.00105435 m^2\n",
    "A_flow = 0.045 * 0.02343 #m^2\n",
    "\n",
    "# flow length is 0.04976 m\n",
    "L_flow = 0.04976 #meter\n",
    "\n",
    "#viscosity of water at 25 deg. C = 1e-3 Pa.s\n",
    "nu = 1e-3 #Pa.s\n",
    "\n",
    "# permeability calculation [m^2]\n",
    "data['perm'] = (data['Qavg'] * nu * L_flow)/(data['mmPpDiff'] * A_flow) #[m^2]"
   ]
  },
  {
   "cell_type": "code",
   "execution_count": 12,
   "metadata": {},
   "outputs": [],
   "source": [
    "# pl('effNS', 'perm', y2log=True, idx1=0, idx2=-1)"
   ]
  },
  {
   "cell_type": "code",
   "execution_count": 13,
   "metadata": {},
   "outputs": [],
   "source": [
    "# %matplotlib widget\n",
    "# fig, axs = plt.subplots(1, 1, figsize=(12, 5), sharex=True)\n",
    "# axs.plot(data['Qa'], color='blue')\n",
    "# axs.plot(data['Qb'], color='red')\n",
    "# plt.show()"
   ]
  },
  {
   "cell_type": "code",
   "execution_count": 14,
   "metadata": {},
   "outputs": [],
   "source": [
    "max_flow_diff_percent = 75\n",
    "# min_flow = 1; # in m^3/s. Minimum flow\n",
    "\n",
    "flow_diff_idxs = data['QpctDiff'].abs().to_numpy() > max_flow_diff_percent\n",
    "# min_flow_idxs = np.logical_or(data['Qa'].to_numpy() <= min_flow, data['Qb'].to_numpy() >= min_flow)\n",
    "\n",
    "data['perm'].to_numpy()[flow_diff_idxs] = np.nan\n",
    "# data['perm'].to_numpy()[min_flow_idxs] = np.nan"
   ]
  },
  {
   "cell_type": "code",
   "execution_count": 15,
   "metadata": {},
   "outputs": [],
   "source": [
    "idxs = np.array([37740, 108000, 181900, 254400, 328800, 403300, 481100, 556800])\n",
    "idxs = np.tile(idxs,(2,1))\n",
    "idxs[1,:] = idxs[1,:] + (100*60*9.25)"
   ]
  },
  {
   "cell_type": "code",
   "execution_count": 16,
   "metadata": {},
   "outputs": [],
   "source": [
    "def getAvg(data, key, idxs):\n",
    "    idxs = np.reshape(idxs,(-1,2))\n",
    "    avg = np.array(list(map(lambda x: np.nanmean(data[key][idxs[x,0]:idxs[x,1]]), np.arange(len(idxs)))))\n",
    "    err = np.array(list(map(lambda x: np.nanstd(data[key][idxs[x,0]:idxs[x,1]]), np.arange(len(idxs)))))\n",
    "    return avg, err\n",
    "\n",
    "avgPerm, errPerm = getAvg(data, 'perm', idxs.T)\n",
    "avgeffNS, erreffNS = getAvg(data, 'effNS', idxs.T)\n",
    "avgComp, errComp = getAvg(data, 'int disp', idxs.T)"
   ]
  },
  {
   "cell_type": "code",
   "execution_count": 17,
   "metadata": {},
   "outputs": [
    {
     "data": {
      "image/png": "[encoded data removed]",
      "text/plain": [
       "<Figure size 500x500 with 1 Axes>"
      ]
     },
     "metadata": {
      "needs_background": "light"
     },
     "output_type": "display_data"
    }
   ],
   "source": [
    "fig, axs = plt.subplots(1, 1, figsize=(5, 5), sharex=True, dpi=100, constrained_layout=True)\n",
    "axs.plot(avgeffNS, avgPerm*1e19, c='gray', ls='--', zorder=0)\n",
    "axs.scatter(avgeffNS, avgPerm*1e19, color='darkblue', s=65, zorder=1)\n",
    "axs.errorbar(avgeffNS, avgPerm*1e19, yerr=errPerm*1e19, fmt='none', color='darkblue', zorder=2)\n",
    "axs.set_xlabel('$\\sigma_{eff}$ (MPa)')\n",
    "axs.set_ylabel('k ($10^{-19} m^2$)')\n",
    "plt.show()"
   ]
  },
  {
   "cell_type": "code",
   "execution_count": 18,
   "metadata": {},
   "outputs": [],
   "source": [
    "data.drop(['Vert DCDT', 'Vert LOAD', 'PpDiff','mmPpDiff','AvPparate','AvPpbrate','QpctDiff','Qavg'], axis=1, inplace=True)"
   ]
  },
  {
   "cell_type": "code",
   "execution_count": 19,
   "metadata": {},
   "outputs": [],
   "source": [
    "with h5.File(\"p5721_r.hdf5\", \"w\") as f:\n",
    "    for chanName in data.keys():\n",
    "        f.create_dataset(chanName, data=data[chanName])"
   ]
  },
  {
   "cell_type": "code",
   "execution_count": null,
   "metadata": {},
   "outputs": [],
   "source": []
  }
 ],
 "metadata": {
  "kernelspec": {
   "display_name": "Python 3",
   "language": "python",
   "name": "python3"
  },
  "language_info": {
   "codemirror_mode": {
    "name": "ipython",
    "version": 3
   },
   "file_extension": ".py",
   "mimetype": "text/x-python",
   "name": "python",
   "nbconvert_exporter": "python",
   "pygments_lexer": "ipython3",
   "version": "3.9.10"
  },
  "toc-autonumbering": true,
  "toc-showcode": true,
  "toc-showmarkdowntxt": true,
  "toc-showtags": false
 },
 "nbformat": 4,
 "nbformat_minor": 4
}
