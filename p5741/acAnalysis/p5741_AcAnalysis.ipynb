{
 "cells": [
  {
   "cell_type": "code",
   "execution_count": null,
   "metadata": {},
   "outputs": [],
   "source": [
    "import numpy as np\n",
    "import pandas as pd\n",
    "import processAc_tomo_funcs as pytomo\n",
    "import pylook_extra as lc2\n",
    "import h5py as h5\n",
    "\n",
    "import matplotlib.pyplot as plt\n",
    "import matplotlib as mpl"
   ]
  },
  {
   "cell_type": "code",
   "execution_count": null,
   "metadata": {},
   "outputs": [],
   "source": [
    "mechdata = pytomo.read_hdf(\"../p5741_r.hdf5\")\n",
    "# mechdata.keys()"
   ]
  },
  {
   "cell_type": "code",
   "execution_count": null,
   "metadata": {},
   "outputs": [],
   "source": [
    "# define settings\n",
    "runname = \"p5741\"\n",
    "acousticrun = 'run2'; # select the acoustic run to analyze after adjusting indexes (from figure 1) and the path\n",
    "               \n",
    "AcSettingsfile = \"../acData/\"+runname+\"_\"+acousticrun+\".mat\" # acoustic settings file (located in the current directory)\n",
    "AcSyncFile = \"./\"+runname+\"_sync_\"+acousticrun+\".hdf5\" # sync file \n",
    "WF_path = \"../acData/\"+acousticrun+\"/WF_\" # where the WFs are                                                 \n",
    "\n",
    "# Portion of the WF to analyze\n",
    "idx2analyze = np.zeros((3,3,2),dtype='int') # 1st dim => transmitters, 2nd dim => receivers, 3rd dim => beg and end\n",
    "\n",
    "\"\"\"RUN 1\"\"\"\n",
    "# idx2analyze[0,:,:] = [[194, 372], [194, 305], [194, 305]]#T1\n",
    "# idx2analyze[1,:,:] = [[165, 290], [190, 305], [230, 375]]#T2\n",
    "# idx2analyze[2,:,:] = [[175, 330], [160, 310], [180, 340]]#T3\n",
    "\n",
    "\"\"\"RUN 2\"\"\"\n",
    "idx2analyze[0,:,:] = [[220, 455], [200, 300], [210, 300]]#T1\n",
    "idx2analyze[1,:,:] = [[176, 276], [193, 293], [220, 340]]#T2\n",
    "idx2analyze[2,:,:] = [[176, 300], [169, 278], [168, 310]]#T3\n",
    "\n",
    "# Display waveforms sent by transmitter WhichTrans\n",
    "WhichTrans = 2;           \n",
    "# Time Range\n",
    "TimeRange = np.array([11200, 12089]); # in seconds. Analyze acoustic data over that time range only. If empty, the whole run is analyzed\n",
    "# AtWhichTimes = np.array([9774.5, 10182, 10605.74])\n",
    "AtWhichTimes = np.array([11195.5, 11708, 12090])\n",
    "NtoStack = 10\n",
    "ref_type = 'absref'; #'absref', 'relref' or 'mixref';"
   ]
  },
  {
   "cell_type": "code",
   "execution_count": null,
   "metadata": {},
   "outputs": [],
   "source": [
    "Filter = 0; #1 to filter, 0 not to filter\n",
    "Filter_freq = np.array([0.25, 2]) #pass band filter 0.25MHz 2MHz\n",
    "Filter_order = 256;\n",
    "Filter_view = 1;\n",
    "\n",
    "displayoptions = 1; # choose 0 to display all waveforms or 1 to display one set of waveforms over 100\n",
    "\n",
    "ref_NrefWF = 50\n",
    "\n",
    "# offset waveforms by Offset when multiple channels are used\n",
    "Offset1 = 10000;\n",
    "Offset2 = 10000;\n",
    "\n",
    "# used for 'relref' or 'mixref'\n",
    "threshold = 0.95;\n",
    "\n",
    "FreqQ = 400e3; # frequency at which the amplitude is monitored\n",
    "NZPad = 2048; #2^18; 2048 number of samples for zero padding before fft \n",
    "\n",
    "ref = [ref_type, ref_NrefWF]"
   ]
  },
  {
   "cell_type": "code",
   "execution_count": null,
   "metadata": {},
   "outputs": [],
   "source": [
    "# plot mechanical data of interest within the considered run\n",
    "\n",
    "# Find sample number corresponding to the beginning and end of the acoustic run\n",
    "syncdata = pytomo.read_hdf(AcSyncFile)\n",
    "FirstIdxAc = np.where(mechdata[\"time\"].values > syncdata[\"acTime\"].values[0])[0][0]\n",
    "LastIdxAc = np.where(mechdata[\"time\"].values > syncdata[\"acTime\"].values[-1])[0][0]\n",
    "idxAc = np.arange(FirstIdxAc,LastIdxAc)"
   ]
  },
  {
   "cell_type": "code",
   "execution_count": null,
   "metadata": {
    "tags": []
   },
   "outputs": [],
   "source": [
    "# %matplotlib widget\n",
    "# fig, axs = plt.subplots(2, 1, figsize=(12, 10), sharex=True)\n",
    "# axs[0].plot(mechdata[\"time\"][idxAc], mechdata[\"effNS\"][idxAc], color='red')\n",
    "# axs[1].plot(mechdata[\"time\"][idxAc], mechdata[\"Sync\"][idxAc], color='blue')\n",
    "# plt.tight_layout()\n",
    "# plt.show()"
   ]
  },
  {
   "cell_type": "code",
   "execution_count": null,
   "metadata": {},
   "outputs": [],
   "source": [
    "# show WFs at different times\n",
    "# pytomo.ShowMeWFs(WF_path,AcSettingsfile,AcSyncFile,AtWhichTimes,NtoStack,Offset1,WhichTrans,idx2analyze)"
   ]
  },
  {
   "cell_type": "code",
   "execution_count": null,
   "metadata": {},
   "outputs": [],
   "source": [
    "MaxInter, TimeShift, RmsAmp, Amp, RmsAmpRef, AmpRef, fullWFref, LocalAcTime, freqQAmp, maxAmp, maxFreq = pytomo.processAc(WF_path,AcSettingsfile,AcSyncFile,idx2analyze,ref, NtoStack,threshold,Offset2,displayoptions,Filter,TimeRange,NZPad,FreqQ)"
   ]
  },
  {
   "cell_type": "code",
   "execution_count": null,
   "metadata": {},
   "outputs": [],
   "source": [
    "# TR = np.tile([\"2\", \"5\", \"8\"],(3,1))\n",
    "# colors = np.array([[\"dodgerblue\",\"blue\",\"mediumblue\"],[\"tomato\",\"crimson\",\"firebrick\"],[\"lightgray\",\"gray\",\"black\"]])\n",
    "\n",
    "# %matplotlib widget\n",
    "# fig, axs = plt.subplots(1, 1, figsize=(12, 5), sharex=True)\n",
    "# for aa in range(3):\n",
    "#     for bb in range(3):\n",
    "#         axs.plot(LocalAcTime[:,aa], RmsAmp[:,bb,aa], label=\"T \"+str(TR[bb,aa])+\" --> \"+\"R \"+str(TR.T[bb,aa]), color=colors.T[bb,aa])\n",
    "# axs.set_xlabel(\"Time (s)\")\n",
    "# axs.set_ylabel(\"RMS Amp. (.)\")\n",
    "# plt.legend()\n",
    "# plt.tight_layout()\n",
    "# plt.show()"
   ]
  },
  {
   "cell_type": "code",
   "execution_count": null,
   "metadata": {},
   "outputs": [],
   "source": [
    "# %matplotlib widget\n",
    "# fig, axs = plt.subplots(1, 1, figsize=(12, 5), sharex=True)\n",
    "# for aa in range(3):\n",
    "#     for bb in range(3):\n",
    "#         axs.plot(LocalAcTime[:,aa], Amp[:,aa,bb], label=str(aa)+str(bb))\n",
    "# axs.set_xlabel(\"Time (s)\")\n",
    "# axs.set_ylabel(\"Amp. (.)\")\n",
    "# plt.legend()\n",
    "# plt.tight_layout()\n",
    "# plt.show()"
   ]
  },
  {
   "cell_type": "code",
   "execution_count": null,
   "metadata": {},
   "outputs": [],
   "source": [
    "RmsAmpI = pytomo.interpDat(mechdata[\"time\"][idxAc], LocalAcTime, RmsAmp, idxAc, 3, 3)\n",
    "TimeShiftI = pytomo.interpDat(mechdata[\"time\"][idxAc], LocalAcTime, TimeShift, idxAc, 3, 3)"
   ]
  },
  {
   "cell_type": "code",
   "execution_count": null,
   "metadata": {},
   "outputs": [],
   "source": [
    "fig, axs = plt.subplots(2, 1, figsize=(12, 8), sharex=True)\n",
    "for aa in range(3):\n",
    "    for bb in range(3):\n",
    "        axs[0].plot(mechdata[\"time\"][idxAc], TimeShiftI[:,aa,bb], label=str(aa)+str(bb))\n",
    "axs[0].legend()\n",
    "axs[0].set_ylabel(\"Time Shift (.)\")\n",
    "# axs.set_ylim(0.6, 1.7)\n",
    "axs[1].plot(mechdata[\"time\"][idxAc], mechdata[\"effNS\"][idxAc], \"crimson\")\n",
    "axs[1].set_ylabel('$\\sigma_{NS}$ (MPa)')\n",
    "axs[1].set_xlabel('time (s)')\n",
    "plt.tight_layout()\n",
    "plt.show()"
   ]
  },
  {
   "cell_type": "code",
   "execution_count": null,
   "metadata": {},
   "outputs": [],
   "source": [
    "fig, axs = plt.subplots(3, 1, figsize=(12, 10), sharex=True)\n",
    "axs[0].plot(mechdata[\"time\"][idxAc], TimeShiftI[:,1,1], label=\"T 2 --> R 2\")\n",
    "# axs[0].plot(mechdata[\"time\"][idxAc], TimeShiftI[:,1,1], label=\"T 5 --> R 5\")\n",
    "# axs[0].plot(mechdata[\"time\"][idxAc], TimeShiftI[:,2,2], label=\"T 8 --> R 8\")\n",
    "axs[0].legend()\n",
    "axs[0].set_ylabel(\"Time Shift ($\\mu s$)\")\n",
    "axs[1].plot(mechdata[\"time\"][idxAc], mechdata[\"effNS\"][idxAc], \"crimson\")\n",
    "axs[1].set_ylabel('$\\sigma_{eff\\ NS}$ (MPa)')\n",
    "axs[2].plot(mechdata[\"time\"][idxAc], mechdata[\"perm2\"][idxAc]*1e18, \"k\")\n",
    "axs[2].set_ylabel('Perm. ($m^2$)')\n",
    "axs[2].set_xlabel('time (s)')\n",
    "plt.tight_layout()\n",
    "plt.show()"
   ]
  },
  {
   "cell_type": "code",
   "execution_count": null,
   "metadata": {},
   "outputs": [],
   "source": [
    "fig, axs = plt.subplots(3, 1, figsize=(12, 10), sharex=True)\n",
    "axs[0].plot(mechdata[\"time\"][idxAc], RmsAmpI[:,0,0], label=\"T 2 --> R 2\")\n",
    "axs[0].legend()\n",
    "axs[0].set_ylabel(\"RMS Amp. (.)\")\n",
    "axs[1].plot(mechdata[\"time\"][idxAc], mechdata[\"effNS\"][idxAc], \"crimson\")\n",
    "axs[1].set_ylabel('$\\sigma_{NS}$ (MPa)')\n",
    "axs[2].plot(mechdata[\"time\"][idxAc], mechdata[\"perm2\"][idxAc]*1e18, \"k\")\n",
    "axs[2].set_ylabel('Perm. ($m^2$)')\n",
    "axs[2].set_xlabel('time (s)')\n",
    "plt.tight_layout()\n",
    "plt.show()"
   ]
  },
  {
   "cell_type": "code",
   "execution_count": null,
   "metadata": {},
   "outputs": [],
   "source": [
    "# fig, axs = plt.subplots(1, 1, figsize=(12, 8), sharex=True)\n",
    "# axs.scatter(test[idxAc], RmsAmpIP[:,0,0], color=\"grey\")\n",
    "# axs.scatter(test[idxAc], RmsAmpIS[:,0,0], color=\"darkgrey\")\n",
    "# axs.set_ylabel('rms amplitude (.)')\n",
    "# axs.set_ylim(170, 350)\n",
    "# # ax2 = axs.twinx()\n",
    "# # ax2.plot(mechdata[\"time_s\"][idxAc], test[idxAc], \"crimson\")\n",
    "# # ax2.set_ylabel('layer thickness detrend ($\\mu m$)', color=\"crimson\")\n",
    "# axs.set_xlabel('layer thickness detrend ($\\mu m$)')\n",
    "# plt.tight_layout()\n",
    "# plt.show()"
   ]
  },
  {
   "cell_type": "code",
   "execution_count": null,
   "metadata": {},
   "outputs": [],
   "source": [
    "def saveData(runname, acousticrun, LocalAcTime, NtoStack, ref, datakeys, acdata):\n",
    "    if len(TimeRange) == 0:\n",
    "        filenamedata = \"Results_\"+runname+\"_\"+acousticrun+str(LocalAcTime[0,0])+\"s-\"+str(LocalAcTime[-1,-1])+\"s_Stack\"+str(NtoStack)+\"WFs_\"+ref[0]+\"w_Amp.hdf5\"\n",
    "    else:\n",
    "        filenamedata = \"Results_\"+runname+\"_\"+acousticrun+\"_fullrun_Stack\"+str(NtoStack)+\"WFs_\"+ref[0]+\"w_Amp.hdf5\"\n",
    "\n",
    "    with h5.File(filenamedata, \"w\") as f:\n",
    "        for aa, chanName in enumerate(datakeys):\n",
    "            f.create_dataset(chanName, data=acdata[aa])"
   ]
  },
  {
   "cell_type": "code",
   "execution_count": null,
   "metadata": {},
   "outputs": [],
   "source": [
    "datakeys = [\"MaxInter\", \"TimeShift\", \"RmsAmp\", \"Amp\", \"RmsAmpRef\", \n",
    "    \"AmpRef\", \"fullWFref\", \"LocalAcTime\", \"freqQAmp\", \"maxAmp\", \n",
    "    \"maxFreq\"]\n",
    "\n",
    "saveData(runname, acousticrun, LocalAcTime, NtoStack, ref, datakeys, \n",
    "    acdata=[MaxInter, TimeShift, RmsAmp, Amp, RmsAmpRef, AmpRef, \n",
    "    fullWFref, LocalAcTime, freqQAmp, maxAmp, maxFreq])"
   ]
  }
 ],
 "metadata": {
  "kernelspec": {
   "display_name": "Python 3",
   "language": "python",
   "name": "python3"
  },
  "language_info": {
   "codemirror_mode": {
    "name": "ipython",
    "version": 3
   },
   "file_extension": ".py",
   "mimetype": "text/x-python",
   "name": "python",
   "nbconvert_exporter": "python",
   "pygments_lexer": "ipython3",
   "version": "3.9.10"
  },
  "vscode": {
   "interpreter": {
    "hash": "aee8b7b246df8f9039afb4144a1f6fd8d2ca17a180786b69acc140d282b71a49"
   }
  },
  "widgets": {
   "application/vnd.jupyter.widget-state+json": {
    "state": {},
    "version_major": 2,
    "version_minor": 0
   }
  }
 },
 "nbformat": 4,
 "nbformat_minor": 4
}
